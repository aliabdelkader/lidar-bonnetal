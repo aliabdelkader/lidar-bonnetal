{
 "cells": [
  {
   "cell_type": "code",
   "execution_count": 3,
   "metadata": {},
   "outputs": [],
   "source": [
    "import subprocess"
   ]
  },
  {
   "cell_type": "code",
   "execution_count": 1,
   "metadata": {
    "tags": [
     "parameters"
    ]
   },
   "outputs": [],
   "source": [
    "experiment_name=\"\"\n",
    "experiment_version=\"\"\n",
    "commit_message=\"\"\n",
    "working_dir = \"\"\n",
    "dataset=\"\"\n",
    "arch_cfg=\"\"\n",
    "data_cfg=\"\"\n",
    "log = \"\"\n",
    "pretrained=None\n",
    "use_cross_validation=0\n",
    "num_cross_folds=0\n",
    "use_hp_optimization=0\n",
    "num_hp_trials=0\n",
    "cuda=\"\""
   ]
  },
  {
   "cell_type": "code",
   "execution_count": null,
   "metadata": {},
   "outputs": [],
   "source": [
    "print(working_dir, dataset, arch_cfg, data_cfg, log, pretrained, use_cross_validation, num_cross_folds,cuda)"
   ]
  },
  {
   "cell_type": "code",
   "execution_count": 4,
   "metadata": {},
   "outputs": [
    {
     "name": "stdout",
     "output_type": "stream",
     "text": [
      "/home/mrafaat/AliThesis/lidar-bonnetal/train/tasks/semantic/logs/filtered-semantic-test/test/2020-08-14-21:34:17\n"
     ]
    }
   ],
   "source": [
    "print(log)"
   ]
  },
  {
   "cell_type": "code",
   "execution_count": null,
   "metadata": {},
   "outputs": [],
   "source": [
    "print(pretrained)"
   ]
  },
  {
   "cell_type": "code",
   "execution_count": 6,
   "metadata": {},
   "outputs": [
    {
     "name": "stdout",
     "output_type": "stream",
     "text": [
      "env: CUDA_VISIBLE_DEVICES=7\n"
     ]
    }
   ],
   "source": [
    "%env CUDA_VISIBLE_DEVICES=$cuda"
   ]
  },
  {
   "cell_type": "markdown",
   "metadata": {},
   "source": [
    "## Training"
   ]
  },
  {
   "cell_type": "code",
   "execution_count": null,
   "metadata": {},
   "outputs": [],
   "source": [
    "train_cmd = f\"python train.py --dataset {dataset} --arch_cfg {arch_cfg} --data_cfg {data_cfg} --log {log} --pretrained {pretrained} --use_cross_validation {use_cross_validation} --num_cross_folds {num_cross_folds} --use_hp_optimization {use_hp_optimization} --num_hp_trials {num_hp_trials} --hp_experiment_name {experiment_name}\""
   ]
  },
  {
   "cell_type": "code",
   "execution_count": null,
   "metadata": {},
   "outputs": [],
   "source": [
    "print(train_cmd)"
   ]
  },
  {
   "cell_type": "code",
   "execution_count": null,
   "metadata": {},
   "outputs": [],
   "source": [
    "!echo \"${CUDA_VISIBLE_DEVICES}\"\n",
    "%cd $working_dir\n",
    "!$train_cmd\n",
    "# !python train.py --dataset $dataset --arch_cfg $arch_cfg --data_cfg $data_cfg --log $log --pretrained $pretrained --use_cross_validation $use_cross_validation --num_cross_folds $num_cross_folds --use_hp_optimization $use_hp_optimization --num_hp_trials $num_hp_trials --hp_experiment_name $experiment_name"
   ]
  }
 ],
 "metadata": {
  "kernelspec": {
   "display_name": "Python 3",
   "language": "python",
   "name": "python3"
  },
  "language_info": {
   "codemirror_mode": {
    "name": "ipython",
    "version": 3
   },
   "file_extension": ".py",
   "mimetype": "text/x-python",
   "name": "python",
   "nbconvert_exporter": "python",
   "pygments_lexer": "ipython3",
   "version": "3.6.10"
  }
 },
 "nbformat": 4,
 "nbformat_minor": 4
}
