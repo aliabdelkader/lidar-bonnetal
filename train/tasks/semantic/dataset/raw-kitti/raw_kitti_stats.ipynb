{
 "cells": [
  {
   "cell_type": "code",
   "execution_count": 1,
   "metadata": {},
   "outputs": [],
   "source": [
    "import matplotlib.pyplot as plt"
   ]
  },
  {
   "cell_type": "code",
   "execution_count": 2,
   "metadata": {},
   "outputs": [],
   "source": [
    "import numpy as np"
   ]
  },
  {
   "cell_type": "code",
   "execution_count": 3,
   "metadata": {},
   "outputs": [],
   "source": [
    "from pathlib import Path"
   ]
  },
  {
   "cell_type": "code",
   "execution_count": 4,
   "metadata": {},
   "outputs": [],
   "source": [
    "import yaml"
   ]
  },
  {
   "cell_type": "code",
   "execution_count": 5,
   "metadata": {},
   "outputs": [],
   "source": [
    "import pandas as pd"
   ]
  },
  {
   "cell_type": "code",
   "execution_count": 6,
   "metadata": {},
   "outputs": [],
   "source": [
    "from tqdm.notebook import tqdm"
   ]
  },
  {
   "cell_type": "code",
   "execution_count": 7,
   "metadata": {},
   "outputs": [],
   "source": [
    "from sklearn import preprocessing"
   ]
  },
  {
   "cell_type": "code",
   "execution_count": 8,
   "metadata": {},
   "outputs": [],
   "source": [
    "data_config_path = Path('/home/fusionresearch/AliThesis/lidar-bonnetal/train/tasks/semantic/config/labels/raw-kitti.yaml')"
   ]
  },
  {
   "cell_type": "code",
   "execution_count": 9,
   "metadata": {},
   "outputs": [],
   "source": [
    "labels_config = yaml.safe_load(open(data_config_path, 'r'))[\"labels\"]"
   ]
  },
  {
   "cell_type": "code",
   "execution_count": 10,
   "metadata": {},
   "outputs": [],
   "source": [
    "dataset_root_dir = Path('/home/fusionresearch/Datasets/KITTI_raw_dataset/2011_09_26/')"
   ]
  },
  {
   "cell_type": "code",
   "execution_count": 11,
   "metadata": {},
   "outputs": [],
   "source": [
    "sequences = [i.name for i in sorted(dataset_root_dir.glob(\"*\")) if i.is_dir()]"
   ]
  },
  {
   "cell_type": "code",
   "execution_count": 12,
   "metadata": {},
   "outputs": [
    {
     "data": {
      "text/plain": [
       "['2011_09_26_drive_0001_sync',\n",
       " '2011_09_26_drive_0002_sync',\n",
       " '2011_09_26_drive_0005_sync',\n",
       " '2011_09_26_drive_0009_sync',\n",
       " '2011_09_26_drive_0011_sync',\n",
       " '2011_09_26_drive_0013_sync',\n",
       " '2011_09_26_drive_0014_sync',\n",
       " '2011_09_26_drive_0015_sync',\n",
       " '2011_09_26_drive_0017_sync',\n",
       " '2011_09_26_drive_0018_sync',\n",
       " '2011_09_26_drive_0019_sync',\n",
       " '2011_09_26_drive_0020_sync',\n",
       " '2011_09_26_drive_0022_sync',\n",
       " '2011_09_26_drive_0023_sync',\n",
       " '2011_09_26_drive_0027_sync',\n",
       " '2011_09_26_drive_0028_sync',\n",
       " '2011_09_26_drive_0029_sync',\n",
       " '2011_09_26_drive_0032_sync',\n",
       " '2011_09_26_drive_0035_sync',\n",
       " '2011_09_26_drive_0036_sync',\n",
       " '2011_09_26_drive_0039_sync',\n",
       " '2011_09_26_drive_0046_sync',\n",
       " '2011_09_26_drive_0048_sync',\n",
       " '2011_09_26_drive_0051_sync',\n",
       " '2011_09_26_drive_0052_sync',\n",
       " '2011_09_26_drive_0056_sync',\n",
       " '2011_09_26_drive_0057_sync',\n",
       " '2011_09_26_drive_0059_sync',\n",
       " '2011_09_26_drive_0060_sync',\n",
       " '2011_09_26_drive_0061_sync',\n",
       " '2011_09_26_drive_0064_sync',\n",
       " '2011_09_26_drive_0070_sync',\n",
       " '2011_09_26_drive_0079_sync',\n",
       " '2011_09_26_drive_0084_sync',\n",
       " '2011_09_26_drive_0086_sync',\n",
       " '2011_09_26_drive_0087_sync',\n",
       " '2011_09_26_drive_0091_sync',\n",
       " '2011_09_26_drive_0093_sync']"
      ]
     },
     "execution_count": 12,
     "metadata": {},
     "output_type": "execute_result"
    }
   ],
   "source": [
    "sequences"
   ]
  },
  {
   "cell_type": "code",
   "execution_count": 13,
   "metadata": {},
   "outputs": [
    {
     "name": "stdout",
     "output_type": "stream",
     "text": [
      "0000000000.npy\t0000000022.npy\t0000000044.npy\t0000000066.npy\t0000000088.npy\r\n",
      "0000000001.npy\t0000000023.npy\t0000000045.npy\t0000000067.npy\t0000000089.npy\r\n",
      "0000000002.npy\t0000000024.npy\t0000000046.npy\t0000000068.npy\t0000000090.npy\r\n",
      "0000000003.npy\t0000000025.npy\t0000000047.npy\t0000000069.npy\t0000000091.npy\r\n",
      "0000000004.npy\t0000000026.npy\t0000000048.npy\t0000000070.npy\t0000000092.npy\r\n",
      "0000000005.npy\t0000000027.npy\t0000000049.npy\t0000000071.npy\t0000000093.npy\r\n",
      "0000000006.npy\t0000000028.npy\t0000000050.npy\t0000000072.npy\t0000000094.npy\r\n",
      "0000000007.npy\t0000000029.npy\t0000000051.npy\t0000000073.npy\t0000000095.npy\r\n",
      "0000000008.npy\t0000000030.npy\t0000000052.npy\t0000000074.npy\t0000000096.npy\r\n",
      "0000000009.npy\t0000000031.npy\t0000000053.npy\t0000000075.npy\t0000000097.npy\r\n",
      "0000000010.npy\t0000000032.npy\t0000000054.npy\t0000000076.npy\t0000000098.npy\r\n",
      "0000000011.npy\t0000000033.npy\t0000000055.npy\t0000000077.npy\t0000000099.npy\r\n",
      "0000000012.npy\t0000000034.npy\t0000000056.npy\t0000000078.npy\t0000000100.npy\r\n",
      "0000000013.npy\t0000000035.npy\t0000000057.npy\t0000000079.npy\t0000000101.npy\r\n",
      "0000000014.npy\t0000000036.npy\t0000000058.npy\t0000000080.npy\t0000000102.npy\r\n",
      "0000000015.npy\t0000000037.npy\t0000000059.npy\t0000000081.npy\t0000000103.npy\r\n",
      "0000000016.npy\t0000000038.npy\t0000000060.npy\t0000000082.npy\t0000000104.npy\r\n",
      "0000000017.npy\t0000000039.npy\t0000000061.npy\t0000000083.npy\t0000000105.npy\r\n",
      "0000000018.npy\t0000000040.npy\t0000000062.npy\t0000000084.npy\t0000000106.npy\r\n",
      "0000000019.npy\t0000000041.npy\t0000000063.npy\t0000000085.npy\t0000000107.npy\r\n",
      "0000000020.npy\t0000000042.npy\t0000000064.npy\t0000000086.npy\r\n",
      "0000000021.npy\t0000000043.npy\t0000000065.npy\t0000000087.npy\r\n"
     ]
    }
   ],
   "source": [
    "! ls /home/fusionresearch/Datasets/KITTI_raw_dataset/2011_09_26/2011_09_26_drive_0001_sync/BoundingBoxLabels/"
   ]
  },
  {
   "cell_type": "code",
   "execution_count": 14,
   "metadata": {},
   "outputs": [],
   "source": [
    "def get_label_data(label_file_path):\n",
    "    label_data = np.load(str(label_file_path))\n",
    "    return label_data"
   ]
  },
  {
   "cell_type": "code",
   "execution_count": 15,
   "metadata": {},
   "outputs": [],
   "source": [
    "sequences_results = {}"
   ]
  },
  {
   "cell_type": "code",
   "execution_count": 16,
   "metadata": {},
   "outputs": [
    {
     "data": {
      "application/vnd.jupyter.widget-view+json": {
       "model_id": "4cf43acf940640c49251d9c4c739b2cc",
       "version_major": 2,
       "version_minor": 0
      },
      "text/plain": [
       "HBox(children=(FloatProgress(value=0.0, description='getting data for seq 2011_09_26_drive_0001_sync', max=108…"
      ]
     },
     "metadata": {},
     "output_type": "display_data"
    },
    {
     "name": "stdout",
     "output_type": "stream",
     "text": [
      "\n",
      "{'unlabeled': 97933, 'Car': 120, 'Tram': 45, 'Cyclist': 224}\n"
     ]
    },
    {
     "data": {
      "application/vnd.jupyter.widget-view+json": {
       "model_id": "6db0705f8ae74889af3141bf7190094d",
       "version_major": 2,
       "version_minor": 0
      },
      "text/plain": [
       "HBox(children=(FloatProgress(value=0.0, description='getting data for seq 2011_09_26_drive_0002_sync', max=39.…"
      ]
     },
     "metadata": {},
     "output_type": "display_data"
    },
    {
     "name": "stdout",
     "output_type": "stream",
     "text": [
      "\n",
      "{'unlabeled': 122098, 'Cyclist': 1762, 'Car': 111}\n"
     ]
    },
    {
     "data": {
      "application/vnd.jupyter.widget-view+json": {
       "model_id": "74c052c4fc0f4259a118f06221a2b6b3",
       "version_major": 2,
       "version_minor": 0
      },
      "text/plain": [
       "HBox(children=(FloatProgress(value=0.0, description='getting data for seq 2011_09_26_drive_0005_sync', max=154…"
      ]
     },
     "metadata": {},
     "output_type": "display_data"
    },
    {
     "name": "stdout",
     "output_type": "stream",
     "text": [
      "\n",
      "{'unlabeled': 91555, 'Van': 1402, 'Pedestrian': 472, 'Cyclist': 203, 'Car': 4900}\n"
     ]
    },
    {
     "data": {
      "application/vnd.jupyter.widget-view+json": {
       "model_id": "ed3f65665c2445a6a51c9991e73d426a",
       "version_major": 2,
       "version_minor": 0
      },
      "text/plain": [
       "HBox(children=(FloatProgress(value=0.0, description='getting data for seq 2011_09_26_drive_0009_sync', max=426…"
      ]
     },
     "metadata": {},
     "output_type": "display_data"
    },
    {
     "name": "stdout",
     "output_type": "stream",
     "text": [
      "\n",
      "{'unlabeled': 118249, 'Car': 3229, 'Van': 7233, 'Misc': 1101, 'Pedestrian': 520, 'Truck': 195}\n"
     ]
    },
    {
     "data": {
      "application/vnd.jupyter.widget-view+json": {
       "model_id": "a046e747c5904244a21ba93bac707894",
       "version_major": 2,
       "version_minor": 0
      },
      "text/plain": [
       "HBox(children=(FloatProgress(value=0.0, description='getting data for seq 2011_09_26_drive_0011_sync', max=224…"
      ]
     },
     "metadata": {},
     "output_type": "display_data"
    },
    {
     "name": "stdout",
     "output_type": "stream",
     "text": [
      "\n",
      "{'unlabeled': 105970, 'Car': 92, 'Misc': 408, 'Pedestrian': 165, 'Van': 2013, 'Cyclist': 286, 'Truck': 6224}\n"
     ]
    },
    {
     "data": {
      "application/vnd.jupyter.widget-view+json": {
       "model_id": "e70ac6e53fce4514b6f00aef2130c388",
       "version_major": 2,
       "version_minor": 0
      },
      "text/plain": [
       "HBox(children=(FloatProgress(value=0.0, description='getting data for seq 2011_09_26_drive_0013_sync', max=144…"
      ]
     },
     "metadata": {},
     "output_type": "display_data"
    },
    {
     "name": "stdout",
     "output_type": "stream",
     "text": [
      "\n",
      "{'unlabeled': 112449, 'Car': 35, 'Van': 408}\n"
     ]
    },
    {
     "data": {
      "application/vnd.jupyter.widget-view+json": {
       "model_id": "2b4799e3bf424c55abec201570835f3f",
       "version_major": 2,
       "version_minor": 0
      },
      "text/plain": [
       "HBox(children=(FloatProgress(value=0.0, description='getting data for seq 2011_09_26_drive_0014_sync', max=314…"
      ]
     },
     "metadata": {},
     "output_type": "display_data"
    },
    {
     "name": "stdout",
     "output_type": "stream",
     "text": [
      "\n",
      "{'unlabeled': 107167, 'Car': 38, 'Van': 1192, 'Tram': 1887, 'Cyclist': 101, 'Pedestrian': 33, 'Truck': 211}\n"
     ]
    },
    {
     "data": {
      "application/vnd.jupyter.widget-view+json": {
       "model_id": "9284f4abf28b47108eb8bb2a8c5b6a00",
       "version_major": 2,
       "version_minor": 0
      },
      "text/plain": [
       "HBox(children=(FloatProgress(value=0.0, description='getting data for seq 2011_09_26_drive_0015_sync', max=297…"
      ]
     },
     "metadata": {},
     "output_type": "display_data"
    },
    {
     "name": "stdout",
     "output_type": "stream",
     "text": [
      "\n",
      "{'unlabeled': 42083, 'Car': 39, 'Cyclist': 102, 'Van': 7499, 'Truck': 17718}\n"
     ]
    },
    {
     "data": {
      "application/vnd.jupyter.widget-view+json": {
       "model_id": "d08bee6bb06e4f5ea720ad06240a1f93",
       "version_major": 2,
       "version_minor": 0
      },
      "text/plain": [
       "HBox(children=(FloatProgress(value=0.0, description='getting data for seq 2011_09_26_drive_0017_sync', max=59.…"
      ]
     },
     "metadata": {},
     "output_type": "display_data"
    },
    {
     "name": "stdout",
     "output_type": "stream",
     "text": [
      "\n",
      "{'unlabeled': 115959, 'Car': 1016}\n"
     ]
    },
    {
     "data": {
      "application/vnd.jupyter.widget-view+json": {
       "model_id": "2d627d94cd1a43e1ab26261b778aa4b0",
       "version_major": 2,
       "version_minor": 0
      },
      "text/plain": [
       "HBox(children=(FloatProgress(value=0.0, description='getting data for seq 2011_09_26_drive_0018_sync', max=269…"
      ]
     },
     "metadata": {},
     "output_type": "display_data"
    },
    {
     "name": "stdout",
     "output_type": "stream",
     "text": [
      "\n",
      "{'unlabeled': 113016, 'Car': 3, 'Truck': 368, 'Van': 526}\n"
     ]
    },
    {
     "data": {
      "application/vnd.jupyter.widget-view+json": {
       "model_id": "b19fbe8a7f724dcb946e3baab8ba28b4",
       "version_major": 2,
       "version_minor": 0
      },
      "text/plain": [
       "HBox(children=(FloatProgress(value=0.0, description='getting data for seq 2011_09_26_drive_0019_sync', max=312…"
      ]
     },
     "metadata": {},
     "output_type": "display_data"
    },
    {
     "name": "stdout",
     "output_type": "stream",
     "text": [
      "\n",
      "{'unlabeled': 116694, 'Car': 3458, 'Cyclist': 53, 'Van': 71, 'Pedestrian': 411}\n"
     ]
    },
    {
     "data": {
      "application/vnd.jupyter.widget-view+json": {
       "model_id": "2d3377da9459407994718021e1ac7887",
       "version_major": 2,
       "version_minor": 0
      },
      "text/plain": [
       "HBox(children=(FloatProgress(value=0.0, description='getting data for seq 2011_09_26_drive_0020_sync', max=86.…"
      ]
     },
     "metadata": {},
     "output_type": "display_data"
    },
    {
     "name": "stdout",
     "output_type": "stream",
     "text": [
      "\n",
      "{'unlabeled': 112937, 'Car': 1657, 'Van': 411, 'Cyclist': 40}\n"
     ]
    },
    {
     "data": {
      "application/vnd.jupyter.widget-view+json": {
       "model_id": "0be6b776993f48b4992bfe1e3c68391f",
       "version_major": 2,
       "version_minor": 0
      },
      "text/plain": [
       "HBox(children=(FloatProgress(value=0.0, description='getting data for seq 2011_09_26_drive_0022_sync', max=667…"
      ]
     },
     "metadata": {},
     "output_type": "display_data"
    },
    {
     "name": "stdout",
     "output_type": "stream",
     "text": [
      "\n",
      "{'unlabeled': 77700, 'Car': 896, 'Truck': 12472, 'Van': 236, 'Misc': 4466, 'Pedestrian': 110}\n"
     ]
    },
    {
     "data": {
      "application/vnd.jupyter.widget-view+json": {
       "model_id": "e081f2cbca3e4673813cedf50369734e",
       "version_major": 2,
       "version_minor": 0
      },
      "text/plain": [
       "HBox(children=(FloatProgress(value=0.0, description='getting data for seq 2011_09_26_drive_0023_sync', max=474…"
      ]
     },
     "metadata": {},
     "output_type": "display_data"
    },
    {
     "name": "stdout",
     "output_type": "stream",
     "text": [
      "\n",
      "{'unlabeled': 82011, 'Car': 1882, 'Van': 234, 'Misc': 1196, 'Pedestrian': 48, 'Cyclist': 1022, 'Truck': 122}\n"
     ]
    },
    {
     "data": {
      "application/vnd.jupyter.widget-view+json": {
       "model_id": "1448ac9d43604e599c69c22cbbe26f43",
       "version_major": 2,
       "version_minor": 0
      },
      "text/plain": [
       "HBox(children=(FloatProgress(value=0.0, description='getting data for seq 2011_09_26_drive_0027_sync', max=61.…"
      ]
     },
     "metadata": {},
     "output_type": "display_data"
    },
    {
     "name": "stdout",
     "output_type": "stream",
     "text": [
      "\n",
      "{'unlabeled': 117520, 'Car': 4398, 'Van': 8066}\n"
     ]
    },
    {
     "data": {
      "application/vnd.jupyter.widget-view+json": {
       "model_id": "c9ff6894b03a4bfbb7d8389368995197",
       "version_major": 2,
       "version_minor": 0
      },
      "text/plain": [
       "HBox(children=(FloatProgress(value=0.0, description='getting data for seq 2011_09_26_drive_0028_sync', max=154…"
      ]
     },
     "metadata": {},
     "output_type": "display_data"
    },
    {
     "name": "stdout",
     "output_type": "stream",
     "text": [
      "\n",
      "{'unlabeled': 123012, 'Car': 3652, 'Cyclist': 757}\n"
     ]
    },
    {
     "data": {
      "application/vnd.jupyter.widget-view+json": {
       "model_id": "5a4baa00878b4685b274b59207bb8cc7",
       "version_major": 2,
       "version_minor": 0
      },
      "text/plain": [
       "HBox(children=(FloatProgress(value=0.0, description='getting data for seq 2011_09_26_drive_0029_sync', max=203…"
      ]
     },
     "metadata": {},
     "output_type": "display_data"
    },
    {
     "name": "stdout",
     "output_type": "stream",
     "text": [
      "\n",
      "{'unlabeled': 120061, 'Car': 7, 'Truck': 41}\n"
     ]
    },
    {
     "data": {
      "application/vnd.jupyter.widget-view+json": {
       "model_id": "403d326a4658498db7f6fd4dedbb03d7",
       "version_major": 2,
       "version_minor": 0
      },
      "text/plain": [
       "HBox(children=(FloatProgress(value=0.0, description='getting data for seq 2011_09_26_drive_0032_sync', max=390…"
      ]
     },
     "metadata": {},
     "output_type": "display_data"
    },
    {
     "name": "stdout",
     "output_type": "stream",
     "text": [
      "\n",
      "{'unlabeled': 97341, 'Car': 1312, 'Van': 43, 'Truck': 21, 'Misc': 6244}\n"
     ]
    },
    {
     "data": {
      "application/vnd.jupyter.widget-view+json": {
       "model_id": "0869d485feaf43468a699b696bdfca1e",
       "version_major": 2,
       "version_minor": 0
      },
      "text/plain": [
       "HBox(children=(FloatProgress(value=0.0, description='getting data for seq 2011_09_26_drive_0035_sync', max=131…"
      ]
     },
     "metadata": {},
     "output_type": "display_data"
    },
    {
     "name": "stdout",
     "output_type": "stream",
     "text": [
      "\n",
      "{'unlabeled': 78532, 'Car': 4369, 'Van': 1425, 'Pedestrian': 270, 'Truck': 392, 'Misc': 1891, 'Cyclist': 1372}\n"
     ]
    },
    {
     "data": {
      "application/vnd.jupyter.widget-view+json": {
       "model_id": "b94fe968cd724bac99792f1cbd94a97f",
       "version_major": 2,
       "version_minor": 0
      },
      "text/plain": [
       "HBox(children=(FloatProgress(value=0.0, description='getting data for seq 2011_09_26_drive_0036_sync', max=783…"
      ]
     },
     "metadata": {},
     "output_type": "display_data"
    },
    {
     "name": "stdout",
     "output_type": "stream",
     "text": [
      "\n",
      "{'unlabeled': 61242, 'Car': 47, 'Van': 217, 'Pedestrian': 481, 'Truck': 2170}\n"
     ]
    },
    {
     "data": {
      "application/vnd.jupyter.widget-view+json": {
       "model_id": "e0db0ed3382e45748b87319855e8de8d",
       "version_major": 2,
       "version_minor": 0
      },
      "text/plain": [
       "HBox(children=(FloatProgress(value=0.0, description='getting data for seq 2011_09_26_drive_0039_sync', max=395…"
      ]
     },
     "metadata": {},
     "output_type": "display_data"
    },
    {
     "name": "stdout",
     "output_type": "stream",
     "text": [
      "\n",
      "{'unlabeled': 104918, 'Car': 326, 'Misc': 3469, 'Van': 7736, 'Cyclist': 46, 'Pedestrian': 215, 'Truck': 7987}\n"
     ]
    },
    {
     "data": {
      "application/vnd.jupyter.widget-view+json": {
       "model_id": "01895fdf97e0470fbf38db0f8d190bb5",
       "version_major": 2,
       "version_minor": 0
      },
      "text/plain": [
       "HBox(children=(FloatProgress(value=0.0, description='getting data for seq 2011_09_26_drive_0046_sync', max=86.…"
      ]
     },
     "metadata": {},
     "output_type": "display_data"
    },
    {
     "name": "stdout",
     "output_type": "stream",
     "text": [
      "\n",
      "{'unlabeled': 108296, 'Car': 2133, 'Van': 306}\n"
     ]
    },
    {
     "data": {
      "application/vnd.jupyter.widget-view+json": {
       "model_id": "2eb0cdf5307747fe90f590849031aba9",
       "version_major": 2,
       "version_minor": 0
      },
      "text/plain": [
       "HBox(children=(FloatProgress(value=0.0, description='getting data for seq 2011_09_26_drive_0048_sync', max=22.…"
      ]
     },
     "metadata": {},
     "output_type": "display_data"
    },
    {
     "name": "stdout",
     "output_type": "stream",
     "text": [
      "\n",
      "{'unlabeled': 116087, 'Car': 5120, 'Van': 9219}\n"
     ]
    },
    {
     "data": {
      "application/vnd.jupyter.widget-view+json": {
       "model_id": "0618a27b8dd4415f8912bc61562bbbbb",
       "version_major": 2,
       "version_minor": 0
      },
      "text/plain": [
       "HBox(children=(FloatProgress(value=0.0, description='getting data for seq 2011_09_26_drive_0051_sync', max=436…"
      ]
     },
     "metadata": {},
     "output_type": "display_data"
    },
    {
     "name": "stdout",
     "output_type": "stream",
     "text": [
      "\n",
      "{'unlabeled': 108194, 'Car': 32, 'Cyclist': 223, 'Van': 70, 'Misc': 887, 'Pedestrian': 378, 'Truck': 6437, 'Tram': 491}\n"
     ]
    },
    {
     "data": {
      "application/vnd.jupyter.widget-view+json": {
       "model_id": "1906006e687b435ca0f6193db47df3d6",
       "version_major": 2,
       "version_minor": 0
      },
      "text/plain": [
       "HBox(children=(FloatProgress(value=0.0, description='getting data for seq 2011_09_26_drive_0052_sync', max=78.…"
      ]
     },
     "metadata": {},
     "output_type": "display_data"
    },
    {
     "name": "stdout",
     "output_type": "stream",
     "text": [
      "\n",
      "{'unlabeled': 58872, 'Car': 1293, 'Van': 3892, 'Truck': 5662}\n"
     ]
    },
    {
     "data": {
      "application/vnd.jupyter.widget-view+json": {
       "model_id": "d3eefaf034b24c1d9985bee6fe1ea37c",
       "version_major": 2,
       "version_minor": 0
      },
      "text/plain": [
       "HBox(children=(FloatProgress(value=0.0, description='getting data for seq 2011_09_26_drive_0056_sync', max=294…"
      ]
     },
     "metadata": {},
     "output_type": "display_data"
    },
    {
     "name": "stdout",
     "output_type": "stream",
     "text": [
      "\n",
      "{'unlabeled': 101112, 'Car': 186, 'Van': 235, 'Cyclist': 130, 'Truck': 657, 'Misc': 164, 'Pedestrian': 92, 'Tram': 8073}\n"
     ]
    },
    {
     "data": {
      "application/vnd.jupyter.widget-view+json": {
       "model_id": "1bb74107d18f4d03beb86467ed84e53c",
       "version_major": 2,
       "version_minor": 0
      },
      "text/plain": [
       "HBox(children=(FloatProgress(value=0.0, description='getting data for seq 2011_09_26_drive_0057_sync', max=361…"
      ]
     },
     "metadata": {},
     "output_type": "display_data"
    },
    {
     "name": "stdout",
     "output_type": "stream",
     "text": [
      "\n",
      "{'unlabeled': 111487, 'Car': 230, 'Van': 191, 'Truck': 2472}\n"
     ]
    },
    {
     "data": {
      "application/vnd.jupyter.widget-view+json": {
       "model_id": "ef8ab22f3e4d4d0a9535c18e038f1b5b",
       "version_major": 2,
       "version_minor": 0
      },
      "text/plain": [
       "HBox(children=(FloatProgress(value=0.0, description='getting data for seq 2011_09_26_drive_0059_sync', max=373…"
      ]
     },
     "metadata": {},
     "output_type": "display_data"
    },
    {
     "name": "stdout",
     "output_type": "stream",
     "text": [
      "\n",
      "{'unlabeled': 106436, 'Car': 93, 'Pedestrian': 170, 'Van': 4177}\n"
     ]
    },
    {
     "data": {
      "application/vnd.jupyter.widget-view+json": {
       "model_id": "125d850dc50b4a0c9d74521d363757b9",
       "version_major": 2,
       "version_minor": 0
      },
      "text/plain": [
       "HBox(children=(FloatProgress(value=0.0, description='getting data for seq 2011_09_26_drive_0060_sync', max=78.…"
      ]
     },
     "metadata": {},
     "output_type": "display_data"
    },
    {
     "name": "stdout",
     "output_type": "stream",
     "text": [
      "\n",
      "{'unlabeled': 104978, 'Car': 32, 'Cyclist': 86, 'Pedestrian': 14}\n"
     ]
    },
    {
     "data": {
      "application/vnd.jupyter.widget-view+json": {
       "model_id": "b73bf7ae61df43798ad73944c61ece22",
       "version_major": 2,
       "version_minor": 0
      },
      "text/plain": [
       "HBox(children=(FloatProgress(value=0.0, description='getting data for seq 2011_09_26_drive_0061_sync', max=592…"
      ]
     },
     "metadata": {},
     "output_type": "display_data"
    },
    {
     "name": "stdout",
     "output_type": "stream",
     "text": [
      "\n",
      "{'unlabeled': 118854, 'Car': 6188, 'Truck': 11559, 'Misc': 1728}\n"
     ]
    },
    {
     "data": {
      "application/vnd.jupyter.widget-view+json": {
       "model_id": "211b1d1d37504169b63eb373a0c68f5f",
       "version_major": 2,
       "version_minor": 0
      },
      "text/plain": [
       "HBox(children=(FloatProgress(value=0.0, description='getting data for seq 2011_09_26_drive_0064_sync', max=570…"
      ]
     },
     "metadata": {},
     "output_type": "display_data"
    },
    {
     "name": "stdout",
     "output_type": "stream",
     "text": [
      "\n",
      "{'unlabeled': 72419, 'Car': 369, 'Cyclist': 3071, 'Van': 1277, 'Misc': 92, 'Truck': 1389}\n"
     ]
    },
    {
     "data": {
      "application/vnd.jupyter.widget-view+json": {
       "model_id": "50f4b3eac524434c86767fd5c4e62c8e",
       "version_major": 2,
       "version_minor": 0
      },
      "text/plain": [
       "HBox(children=(FloatProgress(value=0.0, description='getting data for seq 2011_09_26_drive_0070_sync', max=281…"
      ]
     },
     "metadata": {},
     "output_type": "display_data"
    },
    {
     "name": "stdout",
     "output_type": "stream",
     "text": [
      "\n",
      "{'unlabeled': 102869, 'Van': 1574, 'Car': 5556, 'Cyclist': 514, 'Pedestrian': 142}\n"
     ]
    },
    {
     "data": {
      "application/vnd.jupyter.widget-view+json": {
       "model_id": "373d202fc00e4703a7004f6c6f67d4ca",
       "version_major": 2,
       "version_minor": 0
      },
      "text/plain": [
       "HBox(children=(FloatProgress(value=0.0, description='getting data for seq 2011_09_26_drive_0079_sync', max=51.…"
      ]
     },
     "metadata": {},
     "output_type": "display_data"
    },
    {
     "name": "stdout",
     "output_type": "stream",
     "text": [
      "\n",
      "{'unlabeled': 125039, 'Car': 21}\n"
     ]
    },
    {
     "data": {
      "application/vnd.jupyter.widget-view+json": {
       "model_id": "e048ca35fe754980943187835d84fdc0",
       "version_major": 2,
       "version_minor": 0
      },
      "text/plain": [
       "HBox(children=(FloatProgress(value=0.0, description='getting data for seq 2011_09_26_drive_0084_sync', max=383…"
      ]
     },
     "metadata": {},
     "output_type": "display_data"
    },
    {
     "name": "stdout",
     "output_type": "stream",
     "text": [
      "\n",
      "{'unlabeled': 119708, 'Car': 3663, 'Van': 80, 'Cyclist': 215, 'Pedestrian': 502, 'Misc': 11813}\n"
     ]
    },
    {
     "data": {
      "application/vnd.jupyter.widget-view+json": {
       "model_id": "711c100185d04cb0b291c2c79b9e39f0",
       "version_major": 2,
       "version_minor": 0
      },
      "text/plain": [
       "HBox(children=(FloatProgress(value=0.0, description='getting data for seq 2011_09_26_drive_0086_sync', max=270…"
      ]
     },
     "metadata": {},
     "output_type": "display_data"
    },
    {
     "name": "stdout",
     "output_type": "stream",
     "text": [
      "\n",
      "{'unlabeled': 116130, 'Cyclist': 2693, 'Car': 2465, 'Misc': 6895}\n"
     ]
    },
    {
     "data": {
      "application/vnd.jupyter.widget-view+json": {
       "model_id": "333345bc3f3b43658cdf1f27b41d5a9d",
       "version_major": 2,
       "version_minor": 0
      },
      "text/plain": [
       "HBox(children=(FloatProgress(value=0.0, description='getting data for seq 2011_09_26_drive_0087_sync', max=413…"
      ]
     },
     "metadata": {},
     "output_type": "display_data"
    },
    {
     "name": "stdout",
     "output_type": "stream",
     "text": [
      "\n",
      "{'unlabeled': 114290, 'Car': 278, 'Misc': 6216, 'Van': 2487}\n"
     ]
    },
    {
     "data": {
      "application/vnd.jupyter.widget-view+json": {
       "model_id": "d9567ac3b5264c808c14c010cad9dc18",
       "version_major": 2,
       "version_minor": 0
      },
      "text/plain": [
       "HBox(children=(FloatProgress(value=0.0, description='getting data for seq 2011_09_26_drive_0091_sync', max=339…"
      ]
     },
     "metadata": {},
     "output_type": "display_data"
    },
    {
     "name": "stdout",
     "output_type": "stream",
     "text": [
      "\n",
      "{'unlabeled': 107032, 'Car': 159, 'Pedestrian': 1945, 'Misc': 592, 'Person (sitting)': 281, 'Cyclist': 271, 'Van': 8864}\n"
     ]
    },
    {
     "data": {
      "application/vnd.jupyter.widget-view+json": {
       "model_id": "6e3e69e346da47a7b3587f069a51db93",
       "version_major": 2,
       "version_minor": 0
      },
      "text/plain": [
       "HBox(children=(FloatProgress(value=0.0, description='getting data for seq 2011_09_26_drive_0093_sync', max=433…"
      ]
     },
     "metadata": {},
     "output_type": "display_data"
    },
    {
     "name": "stdout",
     "output_type": "stream",
     "text": [
      "\n",
      "{'unlabeled': 83761, 'Car': 1643, 'Van': 15203, 'Misc': 476, 'Pedestrian': 258, 'Person (sitting)': 1293, 'Cyclist': 996}\n"
     ]
    }
   ],
   "source": [
    "for seq in sequences:\n",
    "    seq_result = {}\n",
    "    seq_labels_path = dataset_root_dir / seq / \"BoundingBoxLabels\"\n",
    "    seq_labels_files = [i.name for i in sorted(seq_labels_path.glob(\"*.npy\"))]\n",
    "    \n",
    "    for label_file in tqdm(seq_labels_files, f\"getting data for seq {seq}\"):\n",
    "        label_file_path =  dataset_root_dir / seq / \"BoundingBoxLabels\" / label_file\n",
    "        label_data = get_label_data(label_file_path)\n",
    "        classes_in_file, occurences = np.unique(label_data, return_counts=True)\n",
    "        classes_numbers = list(zip(classes_in_file, occurences))\n",
    "        for c, o in classes_numbers:\n",
    "            class_name = labels_config[c]\n",
    "            if c in seq_result:\n",
    "                seq_result[class_name] += o\n",
    "            else:\n",
    "                seq_result[class_name] = o\n",
    "        \n",
    "    print(seq_result)    \n",
    "    sequences_results[seq] = seq_result"
   ]
  },
  {
   "cell_type": "code",
   "execution_count": 17,
   "metadata": {},
   "outputs": [],
   "source": [
    "statistics_dataframe = pd.DataFrame(sequences_results)"
   ]
  },
  {
   "cell_type": "code",
   "execution_count": 18,
   "metadata": {},
   "outputs": [],
   "source": [
    "statistics_dataframe = statistics_dataframe.fillna(0)"
   ]
  },
  {
   "cell_type": "code",
   "execution_count": 19,
   "metadata": {},
   "outputs": [
    {
     "data": {
      "text/html": [
       "<div>\n",
       "<style scoped>\n",
       "    .dataframe tbody tr th:only-of-type {\n",
       "        vertical-align: middle;\n",
       "    }\n",
       "\n",
       "    .dataframe tbody tr th {\n",
       "        vertical-align: top;\n",
       "    }\n",
       "\n",
       "    .dataframe thead th {\n",
       "        text-align: right;\n",
       "    }\n",
       "</style>\n",
       "<table border=\"1\" class=\"dataframe\">\n",
       "  <thead>\n",
       "    <tr style=\"text-align: right;\">\n",
       "      <th></th>\n",
       "      <th>2011_09_26_drive_0001_sync</th>\n",
       "      <th>2011_09_26_drive_0002_sync</th>\n",
       "      <th>2011_09_26_drive_0005_sync</th>\n",
       "      <th>2011_09_26_drive_0009_sync</th>\n",
       "      <th>2011_09_26_drive_0011_sync</th>\n",
       "      <th>2011_09_26_drive_0013_sync</th>\n",
       "      <th>2011_09_26_drive_0014_sync</th>\n",
       "      <th>2011_09_26_drive_0015_sync</th>\n",
       "      <th>2011_09_26_drive_0017_sync</th>\n",
       "      <th>2011_09_26_drive_0018_sync</th>\n",
       "      <th>...</th>\n",
       "      <th>2011_09_26_drive_0060_sync</th>\n",
       "      <th>2011_09_26_drive_0061_sync</th>\n",
       "      <th>2011_09_26_drive_0064_sync</th>\n",
       "      <th>2011_09_26_drive_0070_sync</th>\n",
       "      <th>2011_09_26_drive_0079_sync</th>\n",
       "      <th>2011_09_26_drive_0084_sync</th>\n",
       "      <th>2011_09_26_drive_0086_sync</th>\n",
       "      <th>2011_09_26_drive_0087_sync</th>\n",
       "      <th>2011_09_26_drive_0091_sync</th>\n",
       "      <th>2011_09_26_drive_0093_sync</th>\n",
       "    </tr>\n",
       "  </thead>\n",
       "  <tbody>\n",
       "    <tr>\n",
       "      <th>unlabeled</th>\n",
       "      <td>97933.0</td>\n",
       "      <td>122098.0</td>\n",
       "      <td>91555.0</td>\n",
       "      <td>118249.0</td>\n",
       "      <td>105970.0</td>\n",
       "      <td>112449.0</td>\n",
       "      <td>107167.0</td>\n",
       "      <td>42083.0</td>\n",
       "      <td>115959.0</td>\n",
       "      <td>113016.0</td>\n",
       "      <td>...</td>\n",
       "      <td>104978.0</td>\n",
       "      <td>118854.0</td>\n",
       "      <td>72419.0</td>\n",
       "      <td>102869.0</td>\n",
       "      <td>125039.0</td>\n",
       "      <td>119708.0</td>\n",
       "      <td>116130.0</td>\n",
       "      <td>114290.0</td>\n",
       "      <td>107032.0</td>\n",
       "      <td>83761.0</td>\n",
       "    </tr>\n",
       "    <tr>\n",
       "      <th>Car</th>\n",
       "      <td>120.0</td>\n",
       "      <td>111.0</td>\n",
       "      <td>4900.0</td>\n",
       "      <td>3229.0</td>\n",
       "      <td>92.0</td>\n",
       "      <td>35.0</td>\n",
       "      <td>38.0</td>\n",
       "      <td>39.0</td>\n",
       "      <td>1016.0</td>\n",
       "      <td>3.0</td>\n",
       "      <td>...</td>\n",
       "      <td>32.0</td>\n",
       "      <td>6188.0</td>\n",
       "      <td>369.0</td>\n",
       "      <td>5556.0</td>\n",
       "      <td>21.0</td>\n",
       "      <td>3663.0</td>\n",
       "      <td>2465.0</td>\n",
       "      <td>278.0</td>\n",
       "      <td>159.0</td>\n",
       "      <td>1643.0</td>\n",
       "    </tr>\n",
       "    <tr>\n",
       "      <th>Tram</th>\n",
       "      <td>45.0</td>\n",
       "      <td>0.0</td>\n",
       "      <td>0.0</td>\n",
       "      <td>0.0</td>\n",
       "      <td>0.0</td>\n",
       "      <td>0.0</td>\n",
       "      <td>1887.0</td>\n",
       "      <td>0.0</td>\n",
       "      <td>0.0</td>\n",
       "      <td>0.0</td>\n",
       "      <td>...</td>\n",
       "      <td>0.0</td>\n",
       "      <td>0.0</td>\n",
       "      <td>0.0</td>\n",
       "      <td>0.0</td>\n",
       "      <td>0.0</td>\n",
       "      <td>0.0</td>\n",
       "      <td>0.0</td>\n",
       "      <td>0.0</td>\n",
       "      <td>0.0</td>\n",
       "      <td>0.0</td>\n",
       "    </tr>\n",
       "    <tr>\n",
       "      <th>Cyclist</th>\n",
       "      <td>224.0</td>\n",
       "      <td>1762.0</td>\n",
       "      <td>203.0</td>\n",
       "      <td>0.0</td>\n",
       "      <td>286.0</td>\n",
       "      <td>0.0</td>\n",
       "      <td>101.0</td>\n",
       "      <td>102.0</td>\n",
       "      <td>0.0</td>\n",
       "      <td>0.0</td>\n",
       "      <td>...</td>\n",
       "      <td>86.0</td>\n",
       "      <td>0.0</td>\n",
       "      <td>3071.0</td>\n",
       "      <td>514.0</td>\n",
       "      <td>0.0</td>\n",
       "      <td>215.0</td>\n",
       "      <td>2693.0</td>\n",
       "      <td>0.0</td>\n",
       "      <td>271.0</td>\n",
       "      <td>996.0</td>\n",
       "    </tr>\n",
       "    <tr>\n",
       "      <th>Van</th>\n",
       "      <td>0.0</td>\n",
       "      <td>0.0</td>\n",
       "      <td>1402.0</td>\n",
       "      <td>7233.0</td>\n",
       "      <td>2013.0</td>\n",
       "      <td>408.0</td>\n",
       "      <td>1192.0</td>\n",
       "      <td>7499.0</td>\n",
       "      <td>0.0</td>\n",
       "      <td>526.0</td>\n",
       "      <td>...</td>\n",
       "      <td>0.0</td>\n",
       "      <td>0.0</td>\n",
       "      <td>1277.0</td>\n",
       "      <td>1574.0</td>\n",
       "      <td>0.0</td>\n",
       "      <td>80.0</td>\n",
       "      <td>0.0</td>\n",
       "      <td>2487.0</td>\n",
       "      <td>8864.0</td>\n",
       "      <td>15203.0</td>\n",
       "    </tr>\n",
       "    <tr>\n",
       "      <th>Pedestrian</th>\n",
       "      <td>0.0</td>\n",
       "      <td>0.0</td>\n",
       "      <td>472.0</td>\n",
       "      <td>520.0</td>\n",
       "      <td>165.0</td>\n",
       "      <td>0.0</td>\n",
       "      <td>33.0</td>\n",
       "      <td>0.0</td>\n",
       "      <td>0.0</td>\n",
       "      <td>0.0</td>\n",
       "      <td>...</td>\n",
       "      <td>14.0</td>\n",
       "      <td>0.0</td>\n",
       "      <td>0.0</td>\n",
       "      <td>142.0</td>\n",
       "      <td>0.0</td>\n",
       "      <td>502.0</td>\n",
       "      <td>0.0</td>\n",
       "      <td>0.0</td>\n",
       "      <td>1945.0</td>\n",
       "      <td>258.0</td>\n",
       "    </tr>\n",
       "    <tr>\n",
       "      <th>Misc</th>\n",
       "      <td>0.0</td>\n",
       "      <td>0.0</td>\n",
       "      <td>0.0</td>\n",
       "      <td>1101.0</td>\n",
       "      <td>408.0</td>\n",
       "      <td>0.0</td>\n",
       "      <td>0.0</td>\n",
       "      <td>0.0</td>\n",
       "      <td>0.0</td>\n",
       "      <td>0.0</td>\n",
       "      <td>...</td>\n",
       "      <td>0.0</td>\n",
       "      <td>1728.0</td>\n",
       "      <td>92.0</td>\n",
       "      <td>0.0</td>\n",
       "      <td>0.0</td>\n",
       "      <td>11813.0</td>\n",
       "      <td>6895.0</td>\n",
       "      <td>6216.0</td>\n",
       "      <td>592.0</td>\n",
       "      <td>476.0</td>\n",
       "    </tr>\n",
       "    <tr>\n",
       "      <th>Truck</th>\n",
       "      <td>0.0</td>\n",
       "      <td>0.0</td>\n",
       "      <td>0.0</td>\n",
       "      <td>195.0</td>\n",
       "      <td>6224.0</td>\n",
       "      <td>0.0</td>\n",
       "      <td>211.0</td>\n",
       "      <td>17718.0</td>\n",
       "      <td>0.0</td>\n",
       "      <td>368.0</td>\n",
       "      <td>...</td>\n",
       "      <td>0.0</td>\n",
       "      <td>11559.0</td>\n",
       "      <td>1389.0</td>\n",
       "      <td>0.0</td>\n",
       "      <td>0.0</td>\n",
       "      <td>0.0</td>\n",
       "      <td>0.0</td>\n",
       "      <td>0.0</td>\n",
       "      <td>0.0</td>\n",
       "      <td>0.0</td>\n",
       "    </tr>\n",
       "    <tr>\n",
       "      <th>Person (sitting)</th>\n",
       "      <td>0.0</td>\n",
       "      <td>0.0</td>\n",
       "      <td>0.0</td>\n",
       "      <td>0.0</td>\n",
       "      <td>0.0</td>\n",
       "      <td>0.0</td>\n",
       "      <td>0.0</td>\n",
       "      <td>0.0</td>\n",
       "      <td>0.0</td>\n",
       "      <td>0.0</td>\n",
       "      <td>...</td>\n",
       "      <td>0.0</td>\n",
       "      <td>0.0</td>\n",
       "      <td>0.0</td>\n",
       "      <td>0.0</td>\n",
       "      <td>0.0</td>\n",
       "      <td>0.0</td>\n",
       "      <td>0.0</td>\n",
       "      <td>0.0</td>\n",
       "      <td>281.0</td>\n",
       "      <td>1293.0</td>\n",
       "    </tr>\n",
       "  </tbody>\n",
       "</table>\n",
       "<p>9 rows × 38 columns</p>\n",
       "</div>"
      ],
      "text/plain": [
       "                  2011_09_26_drive_0001_sync  2011_09_26_drive_0002_sync  \\\n",
       "unlabeled                            97933.0                    122098.0   \n",
       "Car                                    120.0                       111.0   \n",
       "Tram                                    45.0                         0.0   \n",
       "Cyclist                                224.0                      1762.0   \n",
       "Van                                      0.0                         0.0   \n",
       "Pedestrian                               0.0                         0.0   \n",
       "Misc                                     0.0                         0.0   \n",
       "Truck                                    0.0                         0.0   \n",
       "Person (sitting)                         0.0                         0.0   \n",
       "\n",
       "                  2011_09_26_drive_0005_sync  2011_09_26_drive_0009_sync  \\\n",
       "unlabeled                            91555.0                    118249.0   \n",
       "Car                                   4900.0                      3229.0   \n",
       "Tram                                     0.0                         0.0   \n",
       "Cyclist                                203.0                         0.0   \n",
       "Van                                   1402.0                      7233.0   \n",
       "Pedestrian                             472.0                       520.0   \n",
       "Misc                                     0.0                      1101.0   \n",
       "Truck                                    0.0                       195.0   \n",
       "Person (sitting)                         0.0                         0.0   \n",
       "\n",
       "                  2011_09_26_drive_0011_sync  2011_09_26_drive_0013_sync  \\\n",
       "unlabeled                           105970.0                    112449.0   \n",
       "Car                                     92.0                        35.0   \n",
       "Tram                                     0.0                         0.0   \n",
       "Cyclist                                286.0                         0.0   \n",
       "Van                                   2013.0                       408.0   \n",
       "Pedestrian                             165.0                         0.0   \n",
       "Misc                                   408.0                         0.0   \n",
       "Truck                                 6224.0                         0.0   \n",
       "Person (sitting)                         0.0                         0.0   \n",
       "\n",
       "                  2011_09_26_drive_0014_sync  2011_09_26_drive_0015_sync  \\\n",
       "unlabeled                           107167.0                     42083.0   \n",
       "Car                                     38.0                        39.0   \n",
       "Tram                                  1887.0                         0.0   \n",
       "Cyclist                                101.0                       102.0   \n",
       "Van                                   1192.0                      7499.0   \n",
       "Pedestrian                              33.0                         0.0   \n",
       "Misc                                     0.0                         0.0   \n",
       "Truck                                  211.0                     17718.0   \n",
       "Person (sitting)                         0.0                         0.0   \n",
       "\n",
       "                  2011_09_26_drive_0017_sync  2011_09_26_drive_0018_sync  ...  \\\n",
       "unlabeled                           115959.0                    113016.0  ...   \n",
       "Car                                   1016.0                         3.0  ...   \n",
       "Tram                                     0.0                         0.0  ...   \n",
       "Cyclist                                  0.0                         0.0  ...   \n",
       "Van                                      0.0                       526.0  ...   \n",
       "Pedestrian                               0.0                         0.0  ...   \n",
       "Misc                                     0.0                         0.0  ...   \n",
       "Truck                                    0.0                       368.0  ...   \n",
       "Person (sitting)                         0.0                         0.0  ...   \n",
       "\n",
       "                  2011_09_26_drive_0060_sync  2011_09_26_drive_0061_sync  \\\n",
       "unlabeled                           104978.0                    118854.0   \n",
       "Car                                     32.0                      6188.0   \n",
       "Tram                                     0.0                         0.0   \n",
       "Cyclist                                 86.0                         0.0   \n",
       "Van                                      0.0                         0.0   \n",
       "Pedestrian                              14.0                         0.0   \n",
       "Misc                                     0.0                      1728.0   \n",
       "Truck                                    0.0                     11559.0   \n",
       "Person (sitting)                         0.0                         0.0   \n",
       "\n",
       "                  2011_09_26_drive_0064_sync  2011_09_26_drive_0070_sync  \\\n",
       "unlabeled                            72419.0                    102869.0   \n",
       "Car                                    369.0                      5556.0   \n",
       "Tram                                     0.0                         0.0   \n",
       "Cyclist                               3071.0                       514.0   \n",
       "Van                                   1277.0                      1574.0   \n",
       "Pedestrian                               0.0                       142.0   \n",
       "Misc                                    92.0                         0.0   \n",
       "Truck                                 1389.0                         0.0   \n",
       "Person (sitting)                         0.0                         0.0   \n",
       "\n",
       "                  2011_09_26_drive_0079_sync  2011_09_26_drive_0084_sync  \\\n",
       "unlabeled                           125039.0                    119708.0   \n",
       "Car                                     21.0                      3663.0   \n",
       "Tram                                     0.0                         0.0   \n",
       "Cyclist                                  0.0                       215.0   \n",
       "Van                                      0.0                        80.0   \n",
       "Pedestrian                               0.0                       502.0   \n",
       "Misc                                     0.0                     11813.0   \n",
       "Truck                                    0.0                         0.0   \n",
       "Person (sitting)                         0.0                         0.0   \n",
       "\n",
       "                  2011_09_26_drive_0086_sync  2011_09_26_drive_0087_sync  \\\n",
       "unlabeled                           116130.0                    114290.0   \n",
       "Car                                   2465.0                       278.0   \n",
       "Tram                                     0.0                         0.0   \n",
       "Cyclist                               2693.0                         0.0   \n",
       "Van                                      0.0                      2487.0   \n",
       "Pedestrian                               0.0                         0.0   \n",
       "Misc                                  6895.0                      6216.0   \n",
       "Truck                                    0.0                         0.0   \n",
       "Person (sitting)                         0.0                         0.0   \n",
       "\n",
       "                  2011_09_26_drive_0091_sync  2011_09_26_drive_0093_sync  \n",
       "unlabeled                           107032.0                     83761.0  \n",
       "Car                                    159.0                      1643.0  \n",
       "Tram                                     0.0                         0.0  \n",
       "Cyclist                                271.0                       996.0  \n",
       "Van                                   8864.0                     15203.0  \n",
       "Pedestrian                            1945.0                       258.0  \n",
       "Misc                                   592.0                       476.0  \n",
       "Truck                                    0.0                         0.0  \n",
       "Person (sitting)                       281.0                      1293.0  \n",
       "\n",
       "[9 rows x 38 columns]"
      ]
     },
     "execution_count": 19,
     "metadata": {},
     "output_type": "execute_result"
    }
   ],
   "source": [
    "statistics_dataframe"
   ]
  },
  {
   "cell_type": "code",
   "execution_count": 20,
   "metadata": {},
   "outputs": [],
   "source": [
    "# statistics_dataframe.to_csv(\"raw_kitti_stats.csv\")"
   ]
  },
  {
   "cell_type": "code",
   "execution_count": 21,
   "metadata": {},
   "outputs": [],
   "source": [
    "statistics_dataframe[\"class_sum\"] = statistics_dataframe.sum(axis=1)"
   ]
  },
  {
   "cell_type": "code",
   "execution_count": 22,
   "metadata": {},
   "outputs": [
    {
     "data": {
      "text/plain": [
       "unlabeled           3894011.0\n",
       "Car                   61048.0\n",
       "Tram                  10496.0\n",
       "Cyclist               14167.0\n",
       "Van                   86287.0\n",
       "Pedestrian             6226.0\n",
       "Misc                  47638.0\n",
       "Truck                 76097.0\n",
       "Person (sitting)       1574.0\n",
       "Name: class_sum, dtype: float64"
      ]
     },
     "execution_count": 22,
     "metadata": {},
     "output_type": "execute_result"
    }
   ],
   "source": [
    "statistics_dataframe[\"class_sum\"]"
   ]
  },
  {
   "cell_type": "code",
   "execution_count": 23,
   "metadata": {},
   "outputs": [],
   "source": [
    "statistics_dataframe.loc['drive_sum'] = statistics_dataframe.sum(axis=0)"
   ]
  },
  {
   "cell_type": "code",
   "execution_count": 24,
   "metadata": {},
   "outputs": [
    {
     "data": {
      "text/html": [
       "<div>\n",
       "<style scoped>\n",
       "    .dataframe tbody tr th:only-of-type {\n",
       "        vertical-align: middle;\n",
       "    }\n",
       "\n",
       "    .dataframe tbody tr th {\n",
       "        vertical-align: top;\n",
       "    }\n",
       "\n",
       "    .dataframe thead th {\n",
       "        text-align: right;\n",
       "    }\n",
       "</style>\n",
       "<table border=\"1\" class=\"dataframe\">\n",
       "  <thead>\n",
       "    <tr style=\"text-align: right;\">\n",
       "      <th></th>\n",
       "      <th>2011_09_26_drive_0001_sync</th>\n",
       "      <th>2011_09_26_drive_0002_sync</th>\n",
       "      <th>2011_09_26_drive_0005_sync</th>\n",
       "      <th>2011_09_26_drive_0009_sync</th>\n",
       "      <th>2011_09_26_drive_0011_sync</th>\n",
       "      <th>2011_09_26_drive_0013_sync</th>\n",
       "      <th>2011_09_26_drive_0014_sync</th>\n",
       "      <th>2011_09_26_drive_0015_sync</th>\n",
       "      <th>2011_09_26_drive_0017_sync</th>\n",
       "      <th>2011_09_26_drive_0018_sync</th>\n",
       "      <th>...</th>\n",
       "      <th>2011_09_26_drive_0061_sync</th>\n",
       "      <th>2011_09_26_drive_0064_sync</th>\n",
       "      <th>2011_09_26_drive_0070_sync</th>\n",
       "      <th>2011_09_26_drive_0079_sync</th>\n",
       "      <th>2011_09_26_drive_0084_sync</th>\n",
       "      <th>2011_09_26_drive_0086_sync</th>\n",
       "      <th>2011_09_26_drive_0087_sync</th>\n",
       "      <th>2011_09_26_drive_0091_sync</th>\n",
       "      <th>2011_09_26_drive_0093_sync</th>\n",
       "      <th>class_sum</th>\n",
       "    </tr>\n",
       "  </thead>\n",
       "  <tbody>\n",
       "    <tr>\n",
       "      <th>unlabeled</th>\n",
       "      <td>97933.0</td>\n",
       "      <td>122098.0</td>\n",
       "      <td>91555.0</td>\n",
       "      <td>118249.0</td>\n",
       "      <td>105970.0</td>\n",
       "      <td>112449.0</td>\n",
       "      <td>107167.0</td>\n",
       "      <td>42083.0</td>\n",
       "      <td>115959.0</td>\n",
       "      <td>113016.0</td>\n",
       "      <td>...</td>\n",
       "      <td>118854.0</td>\n",
       "      <td>72419.0</td>\n",
       "      <td>102869.0</td>\n",
       "      <td>125039.0</td>\n",
       "      <td>119708.0</td>\n",
       "      <td>116130.0</td>\n",
       "      <td>114290.0</td>\n",
       "      <td>107032.0</td>\n",
       "      <td>83761.0</td>\n",
       "      <td>3894011.0</td>\n",
       "    </tr>\n",
       "    <tr>\n",
       "      <th>Car</th>\n",
       "      <td>120.0</td>\n",
       "      <td>111.0</td>\n",
       "      <td>4900.0</td>\n",
       "      <td>3229.0</td>\n",
       "      <td>92.0</td>\n",
       "      <td>35.0</td>\n",
       "      <td>38.0</td>\n",
       "      <td>39.0</td>\n",
       "      <td>1016.0</td>\n",
       "      <td>3.0</td>\n",
       "      <td>...</td>\n",
       "      <td>6188.0</td>\n",
       "      <td>369.0</td>\n",
       "      <td>5556.0</td>\n",
       "      <td>21.0</td>\n",
       "      <td>3663.0</td>\n",
       "      <td>2465.0</td>\n",
       "      <td>278.0</td>\n",
       "      <td>159.0</td>\n",
       "      <td>1643.0</td>\n",
       "      <td>61048.0</td>\n",
       "    </tr>\n",
       "    <tr>\n",
       "      <th>Tram</th>\n",
       "      <td>45.0</td>\n",
       "      <td>0.0</td>\n",
       "      <td>0.0</td>\n",
       "      <td>0.0</td>\n",
       "      <td>0.0</td>\n",
       "      <td>0.0</td>\n",
       "      <td>1887.0</td>\n",
       "      <td>0.0</td>\n",
       "      <td>0.0</td>\n",
       "      <td>0.0</td>\n",
       "      <td>...</td>\n",
       "      <td>0.0</td>\n",
       "      <td>0.0</td>\n",
       "      <td>0.0</td>\n",
       "      <td>0.0</td>\n",
       "      <td>0.0</td>\n",
       "      <td>0.0</td>\n",
       "      <td>0.0</td>\n",
       "      <td>0.0</td>\n",
       "      <td>0.0</td>\n",
       "      <td>10496.0</td>\n",
       "    </tr>\n",
       "    <tr>\n",
       "      <th>Cyclist</th>\n",
       "      <td>224.0</td>\n",
       "      <td>1762.0</td>\n",
       "      <td>203.0</td>\n",
       "      <td>0.0</td>\n",
       "      <td>286.0</td>\n",
       "      <td>0.0</td>\n",
       "      <td>101.0</td>\n",
       "      <td>102.0</td>\n",
       "      <td>0.0</td>\n",
       "      <td>0.0</td>\n",
       "      <td>...</td>\n",
       "      <td>0.0</td>\n",
       "      <td>3071.0</td>\n",
       "      <td>514.0</td>\n",
       "      <td>0.0</td>\n",
       "      <td>215.0</td>\n",
       "      <td>2693.0</td>\n",
       "      <td>0.0</td>\n",
       "      <td>271.0</td>\n",
       "      <td>996.0</td>\n",
       "      <td>14167.0</td>\n",
       "    </tr>\n",
       "    <tr>\n",
       "      <th>Van</th>\n",
       "      <td>0.0</td>\n",
       "      <td>0.0</td>\n",
       "      <td>1402.0</td>\n",
       "      <td>7233.0</td>\n",
       "      <td>2013.0</td>\n",
       "      <td>408.0</td>\n",
       "      <td>1192.0</td>\n",
       "      <td>7499.0</td>\n",
       "      <td>0.0</td>\n",
       "      <td>526.0</td>\n",
       "      <td>...</td>\n",
       "      <td>0.0</td>\n",
       "      <td>1277.0</td>\n",
       "      <td>1574.0</td>\n",
       "      <td>0.0</td>\n",
       "      <td>80.0</td>\n",
       "      <td>0.0</td>\n",
       "      <td>2487.0</td>\n",
       "      <td>8864.0</td>\n",
       "      <td>15203.0</td>\n",
       "      <td>86287.0</td>\n",
       "    </tr>\n",
       "    <tr>\n",
       "      <th>Pedestrian</th>\n",
       "      <td>0.0</td>\n",
       "      <td>0.0</td>\n",
       "      <td>472.0</td>\n",
       "      <td>520.0</td>\n",
       "      <td>165.0</td>\n",
       "      <td>0.0</td>\n",
       "      <td>33.0</td>\n",
       "      <td>0.0</td>\n",
       "      <td>0.0</td>\n",
       "      <td>0.0</td>\n",
       "      <td>...</td>\n",
       "      <td>0.0</td>\n",
       "      <td>0.0</td>\n",
       "      <td>142.0</td>\n",
       "      <td>0.0</td>\n",
       "      <td>502.0</td>\n",
       "      <td>0.0</td>\n",
       "      <td>0.0</td>\n",
       "      <td>1945.0</td>\n",
       "      <td>258.0</td>\n",
       "      <td>6226.0</td>\n",
       "    </tr>\n",
       "    <tr>\n",
       "      <th>Misc</th>\n",
       "      <td>0.0</td>\n",
       "      <td>0.0</td>\n",
       "      <td>0.0</td>\n",
       "      <td>1101.0</td>\n",
       "      <td>408.0</td>\n",
       "      <td>0.0</td>\n",
       "      <td>0.0</td>\n",
       "      <td>0.0</td>\n",
       "      <td>0.0</td>\n",
       "      <td>0.0</td>\n",
       "      <td>...</td>\n",
       "      <td>1728.0</td>\n",
       "      <td>92.0</td>\n",
       "      <td>0.0</td>\n",
       "      <td>0.0</td>\n",
       "      <td>11813.0</td>\n",
       "      <td>6895.0</td>\n",
       "      <td>6216.0</td>\n",
       "      <td>592.0</td>\n",
       "      <td>476.0</td>\n",
       "      <td>47638.0</td>\n",
       "    </tr>\n",
       "    <tr>\n",
       "      <th>Truck</th>\n",
       "      <td>0.0</td>\n",
       "      <td>0.0</td>\n",
       "      <td>0.0</td>\n",
       "      <td>195.0</td>\n",
       "      <td>6224.0</td>\n",
       "      <td>0.0</td>\n",
       "      <td>211.0</td>\n",
       "      <td>17718.0</td>\n",
       "      <td>0.0</td>\n",
       "      <td>368.0</td>\n",
       "      <td>...</td>\n",
       "      <td>11559.0</td>\n",
       "      <td>1389.0</td>\n",
       "      <td>0.0</td>\n",
       "      <td>0.0</td>\n",
       "      <td>0.0</td>\n",
       "      <td>0.0</td>\n",
       "      <td>0.0</td>\n",
       "      <td>0.0</td>\n",
       "      <td>0.0</td>\n",
       "      <td>76097.0</td>\n",
       "    </tr>\n",
       "    <tr>\n",
       "      <th>Person (sitting)</th>\n",
       "      <td>0.0</td>\n",
       "      <td>0.0</td>\n",
       "      <td>0.0</td>\n",
       "      <td>0.0</td>\n",
       "      <td>0.0</td>\n",
       "      <td>0.0</td>\n",
       "      <td>0.0</td>\n",
       "      <td>0.0</td>\n",
       "      <td>0.0</td>\n",
       "      <td>0.0</td>\n",
       "      <td>...</td>\n",
       "      <td>0.0</td>\n",
       "      <td>0.0</td>\n",
       "      <td>0.0</td>\n",
       "      <td>0.0</td>\n",
       "      <td>0.0</td>\n",
       "      <td>0.0</td>\n",
       "      <td>0.0</td>\n",
       "      <td>281.0</td>\n",
       "      <td>1293.0</td>\n",
       "      <td>1574.0</td>\n",
       "    </tr>\n",
       "    <tr>\n",
       "      <th>drive_sum</th>\n",
       "      <td>98322.0</td>\n",
       "      <td>123971.0</td>\n",
       "      <td>98532.0</td>\n",
       "      <td>130527.0</td>\n",
       "      <td>115158.0</td>\n",
       "      <td>112892.0</td>\n",
       "      <td>110629.0</td>\n",
       "      <td>67441.0</td>\n",
       "      <td>116975.0</td>\n",
       "      <td>113913.0</td>\n",
       "      <td>...</td>\n",
       "      <td>138329.0</td>\n",
       "      <td>78617.0</td>\n",
       "      <td>110655.0</td>\n",
       "      <td>125060.0</td>\n",
       "      <td>135981.0</td>\n",
       "      <td>128183.0</td>\n",
       "      <td>123271.0</td>\n",
       "      <td>119144.0</td>\n",
       "      <td>103630.0</td>\n",
       "      <td>4197544.0</td>\n",
       "    </tr>\n",
       "  </tbody>\n",
       "</table>\n",
       "<p>10 rows × 39 columns</p>\n",
       "</div>"
      ],
      "text/plain": [
       "                  2011_09_26_drive_0001_sync  2011_09_26_drive_0002_sync  \\\n",
       "unlabeled                            97933.0                    122098.0   \n",
       "Car                                    120.0                       111.0   \n",
       "Tram                                    45.0                         0.0   \n",
       "Cyclist                                224.0                      1762.0   \n",
       "Van                                      0.0                         0.0   \n",
       "Pedestrian                               0.0                         0.0   \n",
       "Misc                                     0.0                         0.0   \n",
       "Truck                                    0.0                         0.0   \n",
       "Person (sitting)                         0.0                         0.0   \n",
       "drive_sum                            98322.0                    123971.0   \n",
       "\n",
       "                  2011_09_26_drive_0005_sync  2011_09_26_drive_0009_sync  \\\n",
       "unlabeled                            91555.0                    118249.0   \n",
       "Car                                   4900.0                      3229.0   \n",
       "Tram                                     0.0                         0.0   \n",
       "Cyclist                                203.0                         0.0   \n",
       "Van                                   1402.0                      7233.0   \n",
       "Pedestrian                             472.0                       520.0   \n",
       "Misc                                     0.0                      1101.0   \n",
       "Truck                                    0.0                       195.0   \n",
       "Person (sitting)                         0.0                         0.0   \n",
       "drive_sum                            98532.0                    130527.0   \n",
       "\n",
       "                  2011_09_26_drive_0011_sync  2011_09_26_drive_0013_sync  \\\n",
       "unlabeled                           105970.0                    112449.0   \n",
       "Car                                     92.0                        35.0   \n",
       "Tram                                     0.0                         0.0   \n",
       "Cyclist                                286.0                         0.0   \n",
       "Van                                   2013.0                       408.0   \n",
       "Pedestrian                             165.0                         0.0   \n",
       "Misc                                   408.0                         0.0   \n",
       "Truck                                 6224.0                         0.0   \n",
       "Person (sitting)                         0.0                         0.0   \n",
       "drive_sum                           115158.0                    112892.0   \n",
       "\n",
       "                  2011_09_26_drive_0014_sync  2011_09_26_drive_0015_sync  \\\n",
       "unlabeled                           107167.0                     42083.0   \n",
       "Car                                     38.0                        39.0   \n",
       "Tram                                  1887.0                         0.0   \n",
       "Cyclist                                101.0                       102.0   \n",
       "Van                                   1192.0                      7499.0   \n",
       "Pedestrian                              33.0                         0.0   \n",
       "Misc                                     0.0                         0.0   \n",
       "Truck                                  211.0                     17718.0   \n",
       "Person (sitting)                         0.0                         0.0   \n",
       "drive_sum                           110629.0                     67441.0   \n",
       "\n",
       "                  2011_09_26_drive_0017_sync  2011_09_26_drive_0018_sync  ...  \\\n",
       "unlabeled                           115959.0                    113016.0  ...   \n",
       "Car                                   1016.0                         3.0  ...   \n",
       "Tram                                     0.0                         0.0  ...   \n",
       "Cyclist                                  0.0                         0.0  ...   \n",
       "Van                                      0.0                       526.0  ...   \n",
       "Pedestrian                               0.0                         0.0  ...   \n",
       "Misc                                     0.0                         0.0  ...   \n",
       "Truck                                    0.0                       368.0  ...   \n",
       "Person (sitting)                         0.0                         0.0  ...   \n",
       "drive_sum                           116975.0                    113913.0  ...   \n",
       "\n",
       "                  2011_09_26_drive_0061_sync  2011_09_26_drive_0064_sync  \\\n",
       "unlabeled                           118854.0                     72419.0   \n",
       "Car                                   6188.0                       369.0   \n",
       "Tram                                     0.0                         0.0   \n",
       "Cyclist                                  0.0                      3071.0   \n",
       "Van                                      0.0                      1277.0   \n",
       "Pedestrian                               0.0                         0.0   \n",
       "Misc                                  1728.0                        92.0   \n",
       "Truck                                11559.0                      1389.0   \n",
       "Person (sitting)                         0.0                         0.0   \n",
       "drive_sum                           138329.0                     78617.0   \n",
       "\n",
       "                  2011_09_26_drive_0070_sync  2011_09_26_drive_0079_sync  \\\n",
       "unlabeled                           102869.0                    125039.0   \n",
       "Car                                   5556.0                        21.0   \n",
       "Tram                                     0.0                         0.0   \n",
       "Cyclist                                514.0                         0.0   \n",
       "Van                                   1574.0                         0.0   \n",
       "Pedestrian                             142.0                         0.0   \n",
       "Misc                                     0.0                         0.0   \n",
       "Truck                                    0.0                         0.0   \n",
       "Person (sitting)                         0.0                         0.0   \n",
       "drive_sum                           110655.0                    125060.0   \n",
       "\n",
       "                  2011_09_26_drive_0084_sync  2011_09_26_drive_0086_sync  \\\n",
       "unlabeled                           119708.0                    116130.0   \n",
       "Car                                   3663.0                      2465.0   \n",
       "Tram                                     0.0                         0.0   \n",
       "Cyclist                                215.0                      2693.0   \n",
       "Van                                     80.0                         0.0   \n",
       "Pedestrian                             502.0                         0.0   \n",
       "Misc                                 11813.0                      6895.0   \n",
       "Truck                                    0.0                         0.0   \n",
       "Person (sitting)                         0.0                         0.0   \n",
       "drive_sum                           135981.0                    128183.0   \n",
       "\n",
       "                  2011_09_26_drive_0087_sync  2011_09_26_drive_0091_sync  \\\n",
       "unlabeled                           114290.0                    107032.0   \n",
       "Car                                    278.0                       159.0   \n",
       "Tram                                     0.0                         0.0   \n",
       "Cyclist                                  0.0                       271.0   \n",
       "Van                                   2487.0                      8864.0   \n",
       "Pedestrian                               0.0                      1945.0   \n",
       "Misc                                  6216.0                       592.0   \n",
       "Truck                                    0.0                         0.0   \n",
       "Person (sitting)                         0.0                       281.0   \n",
       "drive_sum                           123271.0                    119144.0   \n",
       "\n",
       "                  2011_09_26_drive_0093_sync  class_sum  \n",
       "unlabeled                            83761.0  3894011.0  \n",
       "Car                                   1643.0    61048.0  \n",
       "Tram                                     0.0    10496.0  \n",
       "Cyclist                                996.0    14167.0  \n",
       "Van                                  15203.0    86287.0  \n",
       "Pedestrian                             258.0     6226.0  \n",
       "Misc                                   476.0    47638.0  \n",
       "Truck                                    0.0    76097.0  \n",
       "Person (sitting)                      1293.0     1574.0  \n",
       "drive_sum                           103630.0  4197544.0  \n",
       "\n",
       "[10 rows x 39 columns]"
      ]
     },
     "execution_count": 24,
     "metadata": {},
     "output_type": "execute_result"
    }
   ],
   "source": [
    "statistics_dataframe"
   ]
  },
  {
   "cell_type": "code",
   "execution_count": 25,
   "metadata": {},
   "outputs": [],
   "source": [
    "statistics_dataframe['class_ratio'] = statistics_dataframe[\"class_sum\"] / statistics_dataframe.loc['drive_sum', \"class_sum\"]"
   ]
  },
  {
   "cell_type": "code",
   "execution_count": 26,
   "metadata": {},
   "outputs": [
    {
     "data": {
      "text/html": [
       "<div>\n",
       "<style scoped>\n",
       "    .dataframe tbody tr th:only-of-type {\n",
       "        vertical-align: middle;\n",
       "    }\n",
       "\n",
       "    .dataframe tbody tr th {\n",
       "        vertical-align: top;\n",
       "    }\n",
       "\n",
       "    .dataframe thead th {\n",
       "        text-align: right;\n",
       "    }\n",
       "</style>\n",
       "<table border=\"1\" class=\"dataframe\">\n",
       "  <thead>\n",
       "    <tr style=\"text-align: right;\">\n",
       "      <th></th>\n",
       "      <th>2011_09_26_drive_0001_sync</th>\n",
       "      <th>2011_09_26_drive_0002_sync</th>\n",
       "      <th>2011_09_26_drive_0005_sync</th>\n",
       "      <th>2011_09_26_drive_0009_sync</th>\n",
       "      <th>2011_09_26_drive_0011_sync</th>\n",
       "      <th>2011_09_26_drive_0013_sync</th>\n",
       "      <th>2011_09_26_drive_0014_sync</th>\n",
       "      <th>2011_09_26_drive_0015_sync</th>\n",
       "      <th>2011_09_26_drive_0017_sync</th>\n",
       "      <th>2011_09_26_drive_0018_sync</th>\n",
       "      <th>...</th>\n",
       "      <th>2011_09_26_drive_0064_sync</th>\n",
       "      <th>2011_09_26_drive_0070_sync</th>\n",
       "      <th>2011_09_26_drive_0079_sync</th>\n",
       "      <th>2011_09_26_drive_0084_sync</th>\n",
       "      <th>2011_09_26_drive_0086_sync</th>\n",
       "      <th>2011_09_26_drive_0087_sync</th>\n",
       "      <th>2011_09_26_drive_0091_sync</th>\n",
       "      <th>2011_09_26_drive_0093_sync</th>\n",
       "      <th>class_sum</th>\n",
       "      <th>class_ratio</th>\n",
       "    </tr>\n",
       "  </thead>\n",
       "  <tbody>\n",
       "    <tr>\n",
       "      <th>unlabeled</th>\n",
       "      <td>97933.0</td>\n",
       "      <td>122098.0</td>\n",
       "      <td>91555.0</td>\n",
       "      <td>118249.0</td>\n",
       "      <td>105970.0</td>\n",
       "      <td>112449.0</td>\n",
       "      <td>107167.0</td>\n",
       "      <td>42083.0</td>\n",
       "      <td>115959.0</td>\n",
       "      <td>113016.0</td>\n",
       "      <td>...</td>\n",
       "      <td>72419.0</td>\n",
       "      <td>102869.0</td>\n",
       "      <td>125039.0</td>\n",
       "      <td>119708.0</td>\n",
       "      <td>116130.0</td>\n",
       "      <td>114290.0</td>\n",
       "      <td>107032.0</td>\n",
       "      <td>83761.0</td>\n",
       "      <td>3894011.0</td>\n",
       "      <td>0.927688</td>\n",
       "    </tr>\n",
       "    <tr>\n",
       "      <th>Car</th>\n",
       "      <td>120.0</td>\n",
       "      <td>111.0</td>\n",
       "      <td>4900.0</td>\n",
       "      <td>3229.0</td>\n",
       "      <td>92.0</td>\n",
       "      <td>35.0</td>\n",
       "      <td>38.0</td>\n",
       "      <td>39.0</td>\n",
       "      <td>1016.0</td>\n",
       "      <td>3.0</td>\n",
       "      <td>...</td>\n",
       "      <td>369.0</td>\n",
       "      <td>5556.0</td>\n",
       "      <td>21.0</td>\n",
       "      <td>3663.0</td>\n",
       "      <td>2465.0</td>\n",
       "      <td>278.0</td>\n",
       "      <td>159.0</td>\n",
       "      <td>1643.0</td>\n",
       "      <td>61048.0</td>\n",
       "      <td>0.014544</td>\n",
       "    </tr>\n",
       "    <tr>\n",
       "      <th>Tram</th>\n",
       "      <td>45.0</td>\n",
       "      <td>0.0</td>\n",
       "      <td>0.0</td>\n",
       "      <td>0.0</td>\n",
       "      <td>0.0</td>\n",
       "      <td>0.0</td>\n",
       "      <td>1887.0</td>\n",
       "      <td>0.0</td>\n",
       "      <td>0.0</td>\n",
       "      <td>0.0</td>\n",
       "      <td>...</td>\n",
       "      <td>0.0</td>\n",
       "      <td>0.0</td>\n",
       "      <td>0.0</td>\n",
       "      <td>0.0</td>\n",
       "      <td>0.0</td>\n",
       "      <td>0.0</td>\n",
       "      <td>0.0</td>\n",
       "      <td>0.0</td>\n",
       "      <td>10496.0</td>\n",
       "      <td>0.002501</td>\n",
       "    </tr>\n",
       "    <tr>\n",
       "      <th>Cyclist</th>\n",
       "      <td>224.0</td>\n",
       "      <td>1762.0</td>\n",
       "      <td>203.0</td>\n",
       "      <td>0.0</td>\n",
       "      <td>286.0</td>\n",
       "      <td>0.0</td>\n",
       "      <td>101.0</td>\n",
       "      <td>102.0</td>\n",
       "      <td>0.0</td>\n",
       "      <td>0.0</td>\n",
       "      <td>...</td>\n",
       "      <td>3071.0</td>\n",
       "      <td>514.0</td>\n",
       "      <td>0.0</td>\n",
       "      <td>215.0</td>\n",
       "      <td>2693.0</td>\n",
       "      <td>0.0</td>\n",
       "      <td>271.0</td>\n",
       "      <td>996.0</td>\n",
       "      <td>14167.0</td>\n",
       "      <td>0.003375</td>\n",
       "    </tr>\n",
       "    <tr>\n",
       "      <th>Van</th>\n",
       "      <td>0.0</td>\n",
       "      <td>0.0</td>\n",
       "      <td>1402.0</td>\n",
       "      <td>7233.0</td>\n",
       "      <td>2013.0</td>\n",
       "      <td>408.0</td>\n",
       "      <td>1192.0</td>\n",
       "      <td>7499.0</td>\n",
       "      <td>0.0</td>\n",
       "      <td>526.0</td>\n",
       "      <td>...</td>\n",
       "      <td>1277.0</td>\n",
       "      <td>1574.0</td>\n",
       "      <td>0.0</td>\n",
       "      <td>80.0</td>\n",
       "      <td>0.0</td>\n",
       "      <td>2487.0</td>\n",
       "      <td>8864.0</td>\n",
       "      <td>15203.0</td>\n",
       "      <td>86287.0</td>\n",
       "      <td>0.020557</td>\n",
       "    </tr>\n",
       "    <tr>\n",
       "      <th>Pedestrian</th>\n",
       "      <td>0.0</td>\n",
       "      <td>0.0</td>\n",
       "      <td>472.0</td>\n",
       "      <td>520.0</td>\n",
       "      <td>165.0</td>\n",
       "      <td>0.0</td>\n",
       "      <td>33.0</td>\n",
       "      <td>0.0</td>\n",
       "      <td>0.0</td>\n",
       "      <td>0.0</td>\n",
       "      <td>...</td>\n",
       "      <td>0.0</td>\n",
       "      <td>142.0</td>\n",
       "      <td>0.0</td>\n",
       "      <td>502.0</td>\n",
       "      <td>0.0</td>\n",
       "      <td>0.0</td>\n",
       "      <td>1945.0</td>\n",
       "      <td>258.0</td>\n",
       "      <td>6226.0</td>\n",
       "      <td>0.001483</td>\n",
       "    </tr>\n",
       "    <tr>\n",
       "      <th>Misc</th>\n",
       "      <td>0.0</td>\n",
       "      <td>0.0</td>\n",
       "      <td>0.0</td>\n",
       "      <td>1101.0</td>\n",
       "      <td>408.0</td>\n",
       "      <td>0.0</td>\n",
       "      <td>0.0</td>\n",
       "      <td>0.0</td>\n",
       "      <td>0.0</td>\n",
       "      <td>0.0</td>\n",
       "      <td>...</td>\n",
       "      <td>92.0</td>\n",
       "      <td>0.0</td>\n",
       "      <td>0.0</td>\n",
       "      <td>11813.0</td>\n",
       "      <td>6895.0</td>\n",
       "      <td>6216.0</td>\n",
       "      <td>592.0</td>\n",
       "      <td>476.0</td>\n",
       "      <td>47638.0</td>\n",
       "      <td>0.011349</td>\n",
       "    </tr>\n",
       "    <tr>\n",
       "      <th>Truck</th>\n",
       "      <td>0.0</td>\n",
       "      <td>0.0</td>\n",
       "      <td>0.0</td>\n",
       "      <td>195.0</td>\n",
       "      <td>6224.0</td>\n",
       "      <td>0.0</td>\n",
       "      <td>211.0</td>\n",
       "      <td>17718.0</td>\n",
       "      <td>0.0</td>\n",
       "      <td>368.0</td>\n",
       "      <td>...</td>\n",
       "      <td>1389.0</td>\n",
       "      <td>0.0</td>\n",
       "      <td>0.0</td>\n",
       "      <td>0.0</td>\n",
       "      <td>0.0</td>\n",
       "      <td>0.0</td>\n",
       "      <td>0.0</td>\n",
       "      <td>0.0</td>\n",
       "      <td>76097.0</td>\n",
       "      <td>0.018129</td>\n",
       "    </tr>\n",
       "    <tr>\n",
       "      <th>Person (sitting)</th>\n",
       "      <td>0.0</td>\n",
       "      <td>0.0</td>\n",
       "      <td>0.0</td>\n",
       "      <td>0.0</td>\n",
       "      <td>0.0</td>\n",
       "      <td>0.0</td>\n",
       "      <td>0.0</td>\n",
       "      <td>0.0</td>\n",
       "      <td>0.0</td>\n",
       "      <td>0.0</td>\n",
       "      <td>...</td>\n",
       "      <td>0.0</td>\n",
       "      <td>0.0</td>\n",
       "      <td>0.0</td>\n",
       "      <td>0.0</td>\n",
       "      <td>0.0</td>\n",
       "      <td>0.0</td>\n",
       "      <td>281.0</td>\n",
       "      <td>1293.0</td>\n",
       "      <td>1574.0</td>\n",
       "      <td>0.000375</td>\n",
       "    </tr>\n",
       "    <tr>\n",
       "      <th>drive_sum</th>\n",
       "      <td>98322.0</td>\n",
       "      <td>123971.0</td>\n",
       "      <td>98532.0</td>\n",
       "      <td>130527.0</td>\n",
       "      <td>115158.0</td>\n",
       "      <td>112892.0</td>\n",
       "      <td>110629.0</td>\n",
       "      <td>67441.0</td>\n",
       "      <td>116975.0</td>\n",
       "      <td>113913.0</td>\n",
       "      <td>...</td>\n",
       "      <td>78617.0</td>\n",
       "      <td>110655.0</td>\n",
       "      <td>125060.0</td>\n",
       "      <td>135981.0</td>\n",
       "      <td>128183.0</td>\n",
       "      <td>123271.0</td>\n",
       "      <td>119144.0</td>\n",
       "      <td>103630.0</td>\n",
       "      <td>4197544.0</td>\n",
       "      <td>1.000000</td>\n",
       "    </tr>\n",
       "  </tbody>\n",
       "</table>\n",
       "<p>10 rows × 40 columns</p>\n",
       "</div>"
      ],
      "text/plain": [
       "                  2011_09_26_drive_0001_sync  2011_09_26_drive_0002_sync  \\\n",
       "unlabeled                            97933.0                    122098.0   \n",
       "Car                                    120.0                       111.0   \n",
       "Tram                                    45.0                         0.0   \n",
       "Cyclist                                224.0                      1762.0   \n",
       "Van                                      0.0                         0.0   \n",
       "Pedestrian                               0.0                         0.0   \n",
       "Misc                                     0.0                         0.0   \n",
       "Truck                                    0.0                         0.0   \n",
       "Person (sitting)                         0.0                         0.0   \n",
       "drive_sum                            98322.0                    123971.0   \n",
       "\n",
       "                  2011_09_26_drive_0005_sync  2011_09_26_drive_0009_sync  \\\n",
       "unlabeled                            91555.0                    118249.0   \n",
       "Car                                   4900.0                      3229.0   \n",
       "Tram                                     0.0                         0.0   \n",
       "Cyclist                                203.0                         0.0   \n",
       "Van                                   1402.0                      7233.0   \n",
       "Pedestrian                             472.0                       520.0   \n",
       "Misc                                     0.0                      1101.0   \n",
       "Truck                                    0.0                       195.0   \n",
       "Person (sitting)                         0.0                         0.0   \n",
       "drive_sum                            98532.0                    130527.0   \n",
       "\n",
       "                  2011_09_26_drive_0011_sync  2011_09_26_drive_0013_sync  \\\n",
       "unlabeled                           105970.0                    112449.0   \n",
       "Car                                     92.0                        35.0   \n",
       "Tram                                     0.0                         0.0   \n",
       "Cyclist                                286.0                         0.0   \n",
       "Van                                   2013.0                       408.0   \n",
       "Pedestrian                             165.0                         0.0   \n",
       "Misc                                   408.0                         0.0   \n",
       "Truck                                 6224.0                         0.0   \n",
       "Person (sitting)                         0.0                         0.0   \n",
       "drive_sum                           115158.0                    112892.0   \n",
       "\n",
       "                  2011_09_26_drive_0014_sync  2011_09_26_drive_0015_sync  \\\n",
       "unlabeled                           107167.0                     42083.0   \n",
       "Car                                     38.0                        39.0   \n",
       "Tram                                  1887.0                         0.0   \n",
       "Cyclist                                101.0                       102.0   \n",
       "Van                                   1192.0                      7499.0   \n",
       "Pedestrian                              33.0                         0.0   \n",
       "Misc                                     0.0                         0.0   \n",
       "Truck                                  211.0                     17718.0   \n",
       "Person (sitting)                         0.0                         0.0   \n",
       "drive_sum                           110629.0                     67441.0   \n",
       "\n",
       "                  2011_09_26_drive_0017_sync  2011_09_26_drive_0018_sync  ...  \\\n",
       "unlabeled                           115959.0                    113016.0  ...   \n",
       "Car                                   1016.0                         3.0  ...   \n",
       "Tram                                     0.0                         0.0  ...   \n",
       "Cyclist                                  0.0                         0.0  ...   \n",
       "Van                                      0.0                       526.0  ...   \n",
       "Pedestrian                               0.0                         0.0  ...   \n",
       "Misc                                     0.0                         0.0  ...   \n",
       "Truck                                    0.0                       368.0  ...   \n",
       "Person (sitting)                         0.0                         0.0  ...   \n",
       "drive_sum                           116975.0                    113913.0  ...   \n",
       "\n",
       "                  2011_09_26_drive_0064_sync  2011_09_26_drive_0070_sync  \\\n",
       "unlabeled                            72419.0                    102869.0   \n",
       "Car                                    369.0                      5556.0   \n",
       "Tram                                     0.0                         0.0   \n",
       "Cyclist                               3071.0                       514.0   \n",
       "Van                                   1277.0                      1574.0   \n",
       "Pedestrian                               0.0                       142.0   \n",
       "Misc                                    92.0                         0.0   \n",
       "Truck                                 1389.0                         0.0   \n",
       "Person (sitting)                         0.0                         0.0   \n",
       "drive_sum                            78617.0                    110655.0   \n",
       "\n",
       "                  2011_09_26_drive_0079_sync  2011_09_26_drive_0084_sync  \\\n",
       "unlabeled                           125039.0                    119708.0   \n",
       "Car                                     21.0                      3663.0   \n",
       "Tram                                     0.0                         0.0   \n",
       "Cyclist                                  0.0                       215.0   \n",
       "Van                                      0.0                        80.0   \n",
       "Pedestrian                               0.0                       502.0   \n",
       "Misc                                     0.0                     11813.0   \n",
       "Truck                                    0.0                         0.0   \n",
       "Person (sitting)                         0.0                         0.0   \n",
       "drive_sum                           125060.0                    135981.0   \n",
       "\n",
       "                  2011_09_26_drive_0086_sync  2011_09_26_drive_0087_sync  \\\n",
       "unlabeled                           116130.0                    114290.0   \n",
       "Car                                   2465.0                       278.0   \n",
       "Tram                                     0.0                         0.0   \n",
       "Cyclist                               2693.0                         0.0   \n",
       "Van                                      0.0                      2487.0   \n",
       "Pedestrian                               0.0                         0.0   \n",
       "Misc                                  6895.0                      6216.0   \n",
       "Truck                                    0.0                         0.0   \n",
       "Person (sitting)                         0.0                         0.0   \n",
       "drive_sum                           128183.0                    123271.0   \n",
       "\n",
       "                  2011_09_26_drive_0091_sync  2011_09_26_drive_0093_sync  \\\n",
       "unlabeled                           107032.0                     83761.0   \n",
       "Car                                    159.0                      1643.0   \n",
       "Tram                                     0.0                         0.0   \n",
       "Cyclist                                271.0                       996.0   \n",
       "Van                                   8864.0                     15203.0   \n",
       "Pedestrian                            1945.0                       258.0   \n",
       "Misc                                   592.0                       476.0   \n",
       "Truck                                    0.0                         0.0   \n",
       "Person (sitting)                       281.0                      1293.0   \n",
       "drive_sum                           119144.0                    103630.0   \n",
       "\n",
       "                  class_sum  class_ratio  \n",
       "unlabeled         3894011.0     0.927688  \n",
       "Car                 61048.0     0.014544  \n",
       "Tram                10496.0     0.002501  \n",
       "Cyclist             14167.0     0.003375  \n",
       "Van                 86287.0     0.020557  \n",
       "Pedestrian           6226.0     0.001483  \n",
       "Misc                47638.0     0.011349  \n",
       "Truck               76097.0     0.018129  \n",
       "Person (sitting)     1574.0     0.000375  \n",
       "drive_sum         4197544.0     1.000000  \n",
       "\n",
       "[10 rows x 40 columns]"
      ]
     },
     "execution_count": 26,
     "metadata": {},
     "output_type": "execute_result"
    }
   ],
   "source": [
    "statistics_dataframe"
   ]
  },
  {
   "cell_type": "code",
   "execution_count": 36,
   "metadata": {},
   "outputs": [
    {
     "data": {
      "text/plain": [
       "['2011_09_26_drive_0001_sync',\n",
       " '2011_09_26_drive_0002_sync',\n",
       " '2011_09_26_drive_0005_sync',\n",
       " '2011_09_26_drive_0009_sync',\n",
       " '2011_09_26_drive_0011_sync',\n",
       " '2011_09_26_drive_0013_sync',\n",
       " '2011_09_26_drive_0014_sync',\n",
       " '2011_09_26_drive_0015_sync',\n",
       " '2011_09_26_drive_0017_sync',\n",
       " '2011_09_26_drive_0018_sync',\n",
       " '2011_09_26_drive_0019_sync',\n",
       " '2011_09_26_drive_0020_sync',\n",
       " '2011_09_26_drive_0022_sync',\n",
       " '2011_09_26_drive_0023_sync',\n",
       " '2011_09_26_drive_0027_sync',\n",
       " '2011_09_26_drive_0028_sync',\n",
       " '2011_09_26_drive_0029_sync',\n",
       " '2011_09_26_drive_0032_sync',\n",
       " '2011_09_26_drive_0035_sync',\n",
       " '2011_09_26_drive_0036_sync',\n",
       " '2011_09_26_drive_0039_sync',\n",
       " '2011_09_26_drive_0046_sync',\n",
       " '2011_09_26_drive_0048_sync',\n",
       " '2011_09_26_drive_0051_sync',\n",
       " '2011_09_26_drive_0052_sync',\n",
       " '2011_09_26_drive_0056_sync',\n",
       " '2011_09_26_drive_0057_sync',\n",
       " '2011_09_26_drive_0059_sync',\n",
       " '2011_09_26_drive_0060_sync',\n",
       " '2011_09_26_drive_0061_sync',\n",
       " '2011_09_26_drive_0064_sync',\n",
       " '2011_09_26_drive_0070_sync',\n",
       " '2011_09_26_drive_0079_sync',\n",
       " '2011_09_26_drive_0084_sync',\n",
       " '2011_09_26_drive_0086_sync',\n",
       " '2011_09_26_drive_0087_sync',\n",
       " '2011_09_26_drive_0091_sync',\n",
       " '2011_09_26_drive_0093_sync',\n",
       " 'class_ratio',\n",
       " 'class_sum']"
      ]
     },
     "execution_count": 36,
     "metadata": {},
     "output_type": "execute_result"
    }
   ],
   "source": [
    "sorted(statistics_dataframe.columns.values)"
   ]
  },
  {
   "cell_type": "code",
   "execution_count": 43,
   "metadata": {},
   "outputs": [
    {
     "data": {
      "text/html": [
       "<div>\n",
       "<style scoped>\n",
       "    .dataframe tbody tr th:only-of-type {\n",
       "        vertical-align: middle;\n",
       "    }\n",
       "\n",
       "    .dataframe tbody tr th {\n",
       "        vertical-align: top;\n",
       "    }\n",
       "\n",
       "    .dataframe thead th {\n",
       "        text-align: right;\n",
       "    }\n",
       "</style>\n",
       "<table border=\"1\" class=\"dataframe\">\n",
       "  <thead>\n",
       "    <tr style=\"text-align: right;\">\n",
       "      <th></th>\n",
       "      <th>2011_09_26_drive_0056_sync</th>\n",
       "      <th>2011_09_26_drive_0057_sync</th>\n",
       "      <th>2011_09_26_drive_0059_sync</th>\n",
       "      <th>2011_09_26_drive_0060_sync</th>\n",
       "      <th>2011_09_26_drive_0061_sync</th>\n",
       "      <th>2011_09_26_drive_0064_sync</th>\n",
       "      <th>2011_09_26_drive_0070_sync</th>\n",
       "      <th>2011_09_26_drive_0079_sync</th>\n",
       "      <th>2011_09_26_drive_0084_sync</th>\n",
       "      <th>2011_09_26_drive_0086_sync</th>\n",
       "      <th>2011_09_26_drive_0087_sync</th>\n",
       "      <th>2011_09_26_drive_0091_sync</th>\n",
       "      <th>2011_09_26_drive_0093_sync</th>\n",
       "      <th>class_ratio</th>\n",
       "      <th>class_sum</th>\n",
       "    </tr>\n",
       "  </thead>\n",
       "  <tbody>\n",
       "    <tr>\n",
       "      <th>unlabeled</th>\n",
       "      <td>101112.0</td>\n",
       "      <td>111487.0</td>\n",
       "      <td>106436.0</td>\n",
       "      <td>104978.0</td>\n",
       "      <td>118854.0</td>\n",
       "      <td>72419.0</td>\n",
       "      <td>102869.0</td>\n",
       "      <td>125039.0</td>\n",
       "      <td>119708.0</td>\n",
       "      <td>116130.0</td>\n",
       "      <td>114290.0</td>\n",
       "      <td>107032.0</td>\n",
       "      <td>83761.0</td>\n",
       "      <td>0.927688</td>\n",
       "      <td>3894011.0</td>\n",
       "    </tr>\n",
       "    <tr>\n",
       "      <th>Car</th>\n",
       "      <td>186.0</td>\n",
       "      <td>230.0</td>\n",
       "      <td>93.0</td>\n",
       "      <td>32.0</td>\n",
       "      <td>6188.0</td>\n",
       "      <td>369.0</td>\n",
       "      <td>5556.0</td>\n",
       "      <td>21.0</td>\n",
       "      <td>3663.0</td>\n",
       "      <td>2465.0</td>\n",
       "      <td>278.0</td>\n",
       "      <td>159.0</td>\n",
       "      <td>1643.0</td>\n",
       "      <td>0.014544</td>\n",
       "      <td>61048.0</td>\n",
       "    </tr>\n",
       "    <tr>\n",
       "      <th>Tram</th>\n",
       "      <td>8073.0</td>\n",
       "      <td>0.0</td>\n",
       "      <td>0.0</td>\n",
       "      <td>0.0</td>\n",
       "      <td>0.0</td>\n",
       "      <td>0.0</td>\n",
       "      <td>0.0</td>\n",
       "      <td>0.0</td>\n",
       "      <td>0.0</td>\n",
       "      <td>0.0</td>\n",
       "      <td>0.0</td>\n",
       "      <td>0.0</td>\n",
       "      <td>0.0</td>\n",
       "      <td>0.002501</td>\n",
       "      <td>10496.0</td>\n",
       "    </tr>\n",
       "    <tr>\n",
       "      <th>Cyclist</th>\n",
       "      <td>130.0</td>\n",
       "      <td>0.0</td>\n",
       "      <td>0.0</td>\n",
       "      <td>86.0</td>\n",
       "      <td>0.0</td>\n",
       "      <td>3071.0</td>\n",
       "      <td>514.0</td>\n",
       "      <td>0.0</td>\n",
       "      <td>215.0</td>\n",
       "      <td>2693.0</td>\n",
       "      <td>0.0</td>\n",
       "      <td>271.0</td>\n",
       "      <td>996.0</td>\n",
       "      <td>0.003375</td>\n",
       "      <td>14167.0</td>\n",
       "    </tr>\n",
       "    <tr>\n",
       "      <th>Van</th>\n",
       "      <td>235.0</td>\n",
       "      <td>191.0</td>\n",
       "      <td>4177.0</td>\n",
       "      <td>0.0</td>\n",
       "      <td>0.0</td>\n",
       "      <td>1277.0</td>\n",
       "      <td>1574.0</td>\n",
       "      <td>0.0</td>\n",
       "      <td>80.0</td>\n",
       "      <td>0.0</td>\n",
       "      <td>2487.0</td>\n",
       "      <td>8864.0</td>\n",
       "      <td>15203.0</td>\n",
       "      <td>0.020557</td>\n",
       "      <td>86287.0</td>\n",
       "    </tr>\n",
       "    <tr>\n",
       "      <th>Pedestrian</th>\n",
       "      <td>92.0</td>\n",
       "      <td>0.0</td>\n",
       "      <td>170.0</td>\n",
       "      <td>14.0</td>\n",
       "      <td>0.0</td>\n",
       "      <td>0.0</td>\n",
       "      <td>142.0</td>\n",
       "      <td>0.0</td>\n",
       "      <td>502.0</td>\n",
       "      <td>0.0</td>\n",
       "      <td>0.0</td>\n",
       "      <td>1945.0</td>\n",
       "      <td>258.0</td>\n",
       "      <td>0.001483</td>\n",
       "      <td>6226.0</td>\n",
       "    </tr>\n",
       "    <tr>\n",
       "      <th>Misc</th>\n",
       "      <td>164.0</td>\n",
       "      <td>0.0</td>\n",
       "      <td>0.0</td>\n",
       "      <td>0.0</td>\n",
       "      <td>1728.0</td>\n",
       "      <td>92.0</td>\n",
       "      <td>0.0</td>\n",
       "      <td>0.0</td>\n",
       "      <td>11813.0</td>\n",
       "      <td>6895.0</td>\n",
       "      <td>6216.0</td>\n",
       "      <td>592.0</td>\n",
       "      <td>476.0</td>\n",
       "      <td>0.011349</td>\n",
       "      <td>47638.0</td>\n",
       "    </tr>\n",
       "    <tr>\n",
       "      <th>Truck</th>\n",
       "      <td>657.0</td>\n",
       "      <td>2472.0</td>\n",
       "      <td>0.0</td>\n",
       "      <td>0.0</td>\n",
       "      <td>11559.0</td>\n",
       "      <td>1389.0</td>\n",
       "      <td>0.0</td>\n",
       "      <td>0.0</td>\n",
       "      <td>0.0</td>\n",
       "      <td>0.0</td>\n",
       "      <td>0.0</td>\n",
       "      <td>0.0</td>\n",
       "      <td>0.0</td>\n",
       "      <td>0.018129</td>\n",
       "      <td>76097.0</td>\n",
       "    </tr>\n",
       "    <tr>\n",
       "      <th>Person (sitting)</th>\n",
       "      <td>0.0</td>\n",
       "      <td>0.0</td>\n",
       "      <td>0.0</td>\n",
       "      <td>0.0</td>\n",
       "      <td>0.0</td>\n",
       "      <td>0.0</td>\n",
       "      <td>0.0</td>\n",
       "      <td>0.0</td>\n",
       "      <td>0.0</td>\n",
       "      <td>0.0</td>\n",
       "      <td>0.0</td>\n",
       "      <td>281.0</td>\n",
       "      <td>1293.0</td>\n",
       "      <td>0.000375</td>\n",
       "      <td>1574.0</td>\n",
       "    </tr>\n",
       "    <tr>\n",
       "      <th>drive_sum</th>\n",
       "      <td>110649.0</td>\n",
       "      <td>114380.0</td>\n",
       "      <td>110876.0</td>\n",
       "      <td>105110.0</td>\n",
       "      <td>138329.0</td>\n",
       "      <td>78617.0</td>\n",
       "      <td>110655.0</td>\n",
       "      <td>125060.0</td>\n",
       "      <td>135981.0</td>\n",
       "      <td>128183.0</td>\n",
       "      <td>123271.0</td>\n",
       "      <td>119144.0</td>\n",
       "      <td>103630.0</td>\n",
       "      <td>1.000000</td>\n",
       "      <td>4197544.0</td>\n",
       "    </tr>\n",
       "  </tbody>\n",
       "</table>\n",
       "</div>"
      ],
      "text/plain": [
       "                  2011_09_26_drive_0056_sync  2011_09_26_drive_0057_sync  \\\n",
       "unlabeled                           101112.0                    111487.0   \n",
       "Car                                    186.0                       230.0   \n",
       "Tram                                  8073.0                         0.0   \n",
       "Cyclist                                130.0                         0.0   \n",
       "Van                                    235.0                       191.0   \n",
       "Pedestrian                              92.0                         0.0   \n",
       "Misc                                   164.0                         0.0   \n",
       "Truck                                  657.0                      2472.0   \n",
       "Person (sitting)                         0.0                         0.0   \n",
       "drive_sum                           110649.0                    114380.0   \n",
       "\n",
       "                  2011_09_26_drive_0059_sync  2011_09_26_drive_0060_sync  \\\n",
       "unlabeled                           106436.0                    104978.0   \n",
       "Car                                     93.0                        32.0   \n",
       "Tram                                     0.0                         0.0   \n",
       "Cyclist                                  0.0                        86.0   \n",
       "Van                                   4177.0                         0.0   \n",
       "Pedestrian                             170.0                        14.0   \n",
       "Misc                                     0.0                         0.0   \n",
       "Truck                                    0.0                         0.0   \n",
       "Person (sitting)                         0.0                         0.0   \n",
       "drive_sum                           110876.0                    105110.0   \n",
       "\n",
       "                  2011_09_26_drive_0061_sync  2011_09_26_drive_0064_sync  \\\n",
       "unlabeled                           118854.0                     72419.0   \n",
       "Car                                   6188.0                       369.0   \n",
       "Tram                                     0.0                         0.0   \n",
       "Cyclist                                  0.0                      3071.0   \n",
       "Van                                      0.0                      1277.0   \n",
       "Pedestrian                               0.0                         0.0   \n",
       "Misc                                  1728.0                        92.0   \n",
       "Truck                                11559.0                      1389.0   \n",
       "Person (sitting)                         0.0                         0.0   \n",
       "drive_sum                           138329.0                     78617.0   \n",
       "\n",
       "                  2011_09_26_drive_0070_sync  2011_09_26_drive_0079_sync  \\\n",
       "unlabeled                           102869.0                    125039.0   \n",
       "Car                                   5556.0                        21.0   \n",
       "Tram                                     0.0                         0.0   \n",
       "Cyclist                                514.0                         0.0   \n",
       "Van                                   1574.0                         0.0   \n",
       "Pedestrian                             142.0                         0.0   \n",
       "Misc                                     0.0                         0.0   \n",
       "Truck                                    0.0                         0.0   \n",
       "Person (sitting)                         0.0                         0.0   \n",
       "drive_sum                           110655.0                    125060.0   \n",
       "\n",
       "                  2011_09_26_drive_0084_sync  2011_09_26_drive_0086_sync  \\\n",
       "unlabeled                           119708.0                    116130.0   \n",
       "Car                                   3663.0                      2465.0   \n",
       "Tram                                     0.0                         0.0   \n",
       "Cyclist                                215.0                      2693.0   \n",
       "Van                                     80.0                         0.0   \n",
       "Pedestrian                             502.0                         0.0   \n",
       "Misc                                 11813.0                      6895.0   \n",
       "Truck                                    0.0                         0.0   \n",
       "Person (sitting)                         0.0                         0.0   \n",
       "drive_sum                           135981.0                    128183.0   \n",
       "\n",
       "                  2011_09_26_drive_0087_sync  2011_09_26_drive_0091_sync  \\\n",
       "unlabeled                           114290.0                    107032.0   \n",
       "Car                                    278.0                       159.0   \n",
       "Tram                                     0.0                         0.0   \n",
       "Cyclist                                  0.0                       271.0   \n",
       "Van                                   2487.0                      8864.0   \n",
       "Pedestrian                               0.0                      1945.0   \n",
       "Misc                                  6216.0                       592.0   \n",
       "Truck                                    0.0                         0.0   \n",
       "Person (sitting)                         0.0                       281.0   \n",
       "drive_sum                           123271.0                    119144.0   \n",
       "\n",
       "                  2011_09_26_drive_0093_sync  class_ratio  class_sum  \n",
       "unlabeled                            83761.0     0.927688  3894011.0  \n",
       "Car                                   1643.0     0.014544    61048.0  \n",
       "Tram                                     0.0     0.002501    10496.0  \n",
       "Cyclist                                996.0     0.003375    14167.0  \n",
       "Van                                  15203.0     0.020557    86287.0  \n",
       "Pedestrian                             258.0     0.001483     6226.0  \n",
       "Misc                                   476.0     0.011349    47638.0  \n",
       "Truck                                    0.0     0.018129    76097.0  \n",
       "Person (sitting)                      1293.0     0.000375     1574.0  \n",
       "drive_sum                           103630.0     1.000000  4197544.0  "
      ]
     },
     "execution_count": 43,
     "metadata": {},
     "output_type": "execute_result"
    }
   ],
   "source": [
    "statistics_dataframe.loc[:, sorted(statistics_dataframe.columns.values)[-15:]]"
   ]
  },
  {
   "cell_type": "code",
   "execution_count": 40,
   "metadata": {},
   "outputs": [
    {
     "data": {
      "text/plain": [
       "list"
      ]
     },
     "execution_count": 40,
     "metadata": {},
     "output_type": "execute_result"
    }
   ],
   "source": [
    "type(sorted(statistics_dataframe.columns.values)[-13:])"
   ]
  },
  {
   "cell_type": "code",
   "execution_count": 29,
   "metadata": {},
   "outputs": [
    {
     "data": {
      "text/plain": [
       "1611.2"
      ]
     },
     "execution_count": 29,
     "metadata": {},
     "output_type": "execute_result"
    }
   ],
   "source": [
    "8056 * 0.2"
   ]
  },
  {
   "cell_type": "code",
   "execution_count": 30,
   "metadata": {},
   "outputs": [
    {
     "data": {
      "text/plain": [
       "6444.8"
      ]
     },
     "execution_count": 30,
     "metadata": {},
     "output_type": "execute_result"
    }
   ],
   "source": [
    "8056"
   ]
  },
  {
   "cell_type": "code",
   "execution_count": 31,
   "metadata": {},
   "outputs": [
    {
     "data": {
      "text/plain": [
       "0.7894736842105263"
      ]
     },
     "execution_count": 31,
     "metadata": {},
     "output_type": "execute_result"
    }
   ],
   "source": [
    "6360 /8056"
   ]
  },
  {
   "cell_type": "code",
   "execution_count": 27,
   "metadata": {},
   "outputs": [
    {
     "data": {
      "text/plain": [
       "unlabeled           0.927688\n",
       "Car                 0.014544\n",
       "Tram                0.002501\n",
       "Cyclist             0.003375\n",
       "Van                 0.020557\n",
       "Pedestrian          0.001483\n",
       "Misc                0.011349\n",
       "Truck               0.018129\n",
       "Person (sitting)    0.000375\n",
       "drive_sum           1.000000\n",
       "Name: class_ratio, dtype: float64"
      ]
     },
     "execution_count": 27,
     "metadata": {},
     "output_type": "execute_result"
    }
   ],
   "source": [
    "statistics_dataframe['class_ratio']"
   ]
  },
  {
   "cell_type": "markdown",
   "metadata": {},
   "source": [
    "statistics_dataframe = statistics_dataframe.drop('unlabeled')"
   ]
  },
  {
   "cell_type": "markdown",
   "metadata": {},
   "source": [
    "def normlize_col(col):\n",
    "    x = col.values.astype('float').reshape(1, -1)\n",
    "\n",
    "    # Create a minimum and maximum processor object\n",
    "    min_max_scaler = preprocessing.Normalizer(norm='l1')\n",
    "\n",
    "    # Create an object to transform the data to fit minmax processor\n",
    "    x_scaled = min_max_scaler.fit_transform(x).reshape(-1)\n",
    "\n",
    "    return x_scaled"
   ]
  },
  {
   "cell_type": "markdown",
   "metadata": {},
   "source": [
    "statistics_dataframe[\"2011_09_26_drive_0001_sync\"].plot.bar()"
   ]
  },
  {
   "cell_type": "markdown",
   "metadata": {},
   "source": [
    "statistics_dataframe_scaled = statistics_dataframe.apply(normlize_col, axis=0)"
   ]
  },
  {
   "cell_type": "markdown",
   "metadata": {},
   "source": [
    "statistics_dataframe_scaled"
   ]
  },
  {
   "cell_type": "markdown",
   "metadata": {},
   "source": [
    "statistics_dataframe_scaled[\"2011_09_26_drive_0001_sync\"].plot.bar()"
   ]
  }
 ],
 "metadata": {
  "kernelspec": {
   "display_name": "Python 3",
   "language": "python",
   "name": "python3"
  },
  "language_info": {
   "codemirror_mode": {
    "name": "ipython",
    "version": 3
   },
   "file_extension": ".py",
   "mimetype": "text/x-python",
   "name": "python",
   "nbconvert_exporter": "python",
   "pygments_lexer": "ipython3",
   "version": "3.6.10"
  }
 },
 "nbformat": 4,
 "nbformat_minor": 4
}
