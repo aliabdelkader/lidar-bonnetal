{
 "cells": [
  {
   "cell_type": "code",
   "execution_count": 1,
   "metadata": {},
   "outputs": [],
   "source": [
    "import matplotlib.pyplot as plt"
   ]
  },
  {
   "cell_type": "code",
   "execution_count": 1,
   "metadata": {},
   "outputs": [],
   "source": [
    "import numpy as np"
   ]
  },
  {
   "cell_type": "code",
   "execution_count": 2,
   "metadata": {},
   "outputs": [],
   "source": [
    "from pathlib import Path"
   ]
  },
  {
   "cell_type": "code",
   "execution_count": 3,
   "metadata": {},
   "outputs": [],
   "source": [
    "import yaml"
   ]
  },
  {
   "cell_type": "code",
   "execution_count": 4,
   "metadata": {},
   "outputs": [],
   "source": [
    "import pandas as pd"
   ]
  },
  {
   "cell_type": "code",
   "execution_count": 5,
   "metadata": {},
   "outputs": [],
   "source": [
    "from tqdm.notebook import tqdm"
   ]
  },
  {
   "cell_type": "code",
   "execution_count": 6,
   "metadata": {},
   "outputs": [],
   "source": [
    "from sklearn import preprocessing"
   ]
  },
  {
   "cell_type": "code",
   "execution_count": 7,
   "metadata": {},
   "outputs": [],
   "source": [
    "data_config_path = Path('/home/fusionresearch/AliThesis/lidar-bonnetal/train/tasks/semantic/config/filtered-semantic/labels/filtered-semantic.yaml')"
   ]
  },
  {
   "cell_type": "code",
   "execution_count": 8,
   "metadata": {},
   "outputs": [],
   "source": [
    "labels_config = yaml.safe_load(open(data_config_path, 'r'))[\"labels\"]"
   ]
  },
  {
   "cell_type": "code",
   "execution_count": 9,
   "metadata": {},
   "outputs": [],
   "source": [
    "dataset_root_dir = Path('/home/fusionresearch/AliThesis/FilteredSemanticKitti/dataset/sequences/')"
   ]
  },
  {
   "cell_type": "markdown",
   "metadata": {},
   "source": [
    "## Get Sequnces"
   ]
  },
  {
   "cell_type": "code",
   "execution_count": 10,
   "metadata": {},
   "outputs": [],
   "source": [
    "sequences = [i.name for i in sorted(dataset_root_dir.glob(\"*\")) if i.is_dir()]"
   ]
  },
  {
   "cell_type": "code",
   "execution_count": 11,
   "metadata": {},
   "outputs": [
    {
     "data": {
      "text/plain": [
       "['00',\n",
       " '01',\n",
       " '02',\n",
       " '03',\n",
       " '04',\n",
       " '05',\n",
       " '06',\n",
       " '07',\n",
       " '08',\n",
       " '09',\n",
       " '10',\n",
       " '11',\n",
       " '12',\n",
       " '13',\n",
       " '14',\n",
       " '15',\n",
       " '16',\n",
       " '17',\n",
       " '18',\n",
       " '19',\n",
       " '20',\n",
       " '21']"
      ]
     },
     "execution_count": 11,
     "metadata": {},
     "output_type": "execute_result"
    }
   ],
   "source": [
    "sequences"
   ]
  },
  {
   "cell_type": "code",
   "execution_count": 12,
   "metadata": {},
   "outputs": [],
   "source": [
    "def get_label_data(label_file_path):\n",
    "    \"\"\"\n",
    "    read labels from files, remove instance labels\n",
    "    Returns:\n",
    "        array with semantic class label for each point\n",
    "    \"\"\"\n",
    "    label_data = np.load(str(label_file_path))\n",
    "    label_data = label_data.reshape((-1))\n",
    "    sem_label = label_data & 0xFFFF  \n",
    "    return sem_label"
   ]
  },
  {
   "cell_type": "code",
   "execution_count": 13,
   "metadata": {},
   "outputs": [
    {
     "data": {
      "application/vnd.jupyter.widget-view+json": {
       "model_id": "5dfb6a269814499796e6f24ec0ccdc62",
       "version_major": 2,
       "version_minor": 0
      },
      "text/plain": [
       "HBox(children=(FloatProgress(value=0.0, description='getting data for seq 00', max=4541.0, style=ProgressStyle…"
      ]
     },
     "metadata": {},
     "output_type": "display_data"
    },
    {
     "name": "stdout",
     "output_type": "stream",
     "text": [
      "\n"
     ]
    },
    {
     "data": {
      "application/vnd.jupyter.widget-view+json": {
       "model_id": "56827168ff074bad94408b31050486a4",
       "version_major": 2,
       "version_minor": 0
      },
      "text/plain": [
       "HBox(children=(FloatProgress(value=0.0, description='getting data for seq 01', max=1101.0, style=ProgressStyle…"
      ]
     },
     "metadata": {},
     "output_type": "display_data"
    },
    {
     "name": "stdout",
     "output_type": "stream",
     "text": [
      "\n"
     ]
    },
    {
     "data": {
      "application/vnd.jupyter.widget-view+json": {
       "model_id": "4f271d40de604dfda0992c63051739a1",
       "version_major": 2,
       "version_minor": 0
      },
      "text/plain": [
       "HBox(children=(FloatProgress(value=0.0, description='getting data for seq 02', max=4661.0, style=ProgressStyle…"
      ]
     },
     "metadata": {},
     "output_type": "display_data"
    },
    {
     "name": "stdout",
     "output_type": "stream",
     "text": [
      "\n"
     ]
    },
    {
     "data": {
      "application/vnd.jupyter.widget-view+json": {
       "model_id": "9f80e492cab84be08d2f2e3cc29c6118",
       "version_major": 2,
       "version_minor": 0
      },
      "text/plain": [
       "HBox(children=(FloatProgress(value=0.0, description='getting data for seq 03', max=801.0, style=ProgressStyle(…"
      ]
     },
     "metadata": {},
     "output_type": "display_data"
    },
    {
     "name": "stdout",
     "output_type": "stream",
     "text": [
      "\n"
     ]
    },
    {
     "data": {
      "application/vnd.jupyter.widget-view+json": {
       "model_id": "75e1d1c85c06412ba3c509b8bd8a2694",
       "version_major": 2,
       "version_minor": 0
      },
      "text/plain": [
       "HBox(children=(FloatProgress(value=0.0, description='getting data for seq 04', max=271.0, style=ProgressStyle(…"
      ]
     },
     "metadata": {},
     "output_type": "display_data"
    },
    {
     "name": "stdout",
     "output_type": "stream",
     "text": [
      "\n"
     ]
    },
    {
     "data": {
      "application/vnd.jupyter.widget-view+json": {
       "model_id": "30af258f07b041d79173299ca54afa33",
       "version_major": 2,
       "version_minor": 0
      },
      "text/plain": [
       "HBox(children=(FloatProgress(value=0.0, description='getting data for seq 05', max=2761.0, style=ProgressStyle…"
      ]
     },
     "metadata": {},
     "output_type": "display_data"
    },
    {
     "name": "stdout",
     "output_type": "stream",
     "text": [
      "\n"
     ]
    },
    {
     "data": {
      "application/vnd.jupyter.widget-view+json": {
       "model_id": "1c78daa475dc4e0da0a483ee732c78bf",
       "version_major": 2,
       "version_minor": 0
      },
      "text/plain": [
       "HBox(children=(FloatProgress(value=0.0, description='getting data for seq 06', max=1101.0, style=ProgressStyle…"
      ]
     },
     "metadata": {},
     "output_type": "display_data"
    },
    {
     "name": "stdout",
     "output_type": "stream",
     "text": [
      "\n"
     ]
    },
    {
     "data": {
      "application/vnd.jupyter.widget-view+json": {
       "model_id": "b57fa818d8054a76b468f573f85f5671",
       "version_major": 2,
       "version_minor": 0
      },
      "text/plain": [
       "HBox(children=(FloatProgress(value=0.0, description='getting data for seq 07', max=1101.0, style=ProgressStyle…"
      ]
     },
     "metadata": {},
     "output_type": "display_data"
    },
    {
     "name": "stdout",
     "output_type": "stream",
     "text": [
      "\n"
     ]
    },
    {
     "data": {
      "application/vnd.jupyter.widget-view+json": {
       "model_id": "4d32d9c1703545d5b95e91175696d604",
       "version_major": 2,
       "version_minor": 0
      },
      "text/plain": [
       "HBox(children=(FloatProgress(value=0.0, description='getting data for seq 08', max=4071.0, style=ProgressStyle…"
      ]
     },
     "metadata": {},
     "output_type": "display_data"
    },
    {
     "name": "stdout",
     "output_type": "stream",
     "text": [
      "\n"
     ]
    },
    {
     "data": {
      "application/vnd.jupyter.widget-view+json": {
       "model_id": "152dbdfec4954e4e93579d9baa06f8af",
       "version_major": 2,
       "version_minor": 0
      },
      "text/plain": [
       "HBox(children=(FloatProgress(value=0.0, description='getting data for seq 09', max=1591.0, style=ProgressStyle…"
      ]
     },
     "metadata": {},
     "output_type": "display_data"
    },
    {
     "name": "stdout",
     "output_type": "stream",
     "text": [
      "\n"
     ]
    },
    {
     "data": {
      "application/vnd.jupyter.widget-view+json": {
       "model_id": "a6844866b159461e9a38dbb8daa50f1b",
       "version_major": 2,
       "version_minor": 0
      },
      "text/plain": [
       "HBox(children=(FloatProgress(value=0.0, description='getting data for seq 10', max=1201.0, style=ProgressStyle…"
      ]
     },
     "metadata": {},
     "output_type": "display_data"
    },
    {
     "name": "stdout",
     "output_type": "stream",
     "text": [
      "\n"
     ]
    },
    {
     "data": {
      "application/vnd.jupyter.widget-view+json": {
       "model_id": "fba770e39d2f44a48a551beb1c5dfad3",
       "version_major": 2,
       "version_minor": 0
      },
      "text/plain": [
       "HBox(children=(FloatProgress(value=1.0, bar_style='info', description='getting data for seq 11', max=1.0, styl…"
      ]
     },
     "metadata": {},
     "output_type": "display_data"
    },
    {
     "name": "stdout",
     "output_type": "stream",
     "text": [
      "\n"
     ]
    },
    {
     "data": {
      "application/vnd.jupyter.widget-view+json": {
       "model_id": "b80c35ff3a3f479e940828bd0487b871",
       "version_major": 2,
       "version_minor": 0
      },
      "text/plain": [
       "HBox(children=(FloatProgress(value=1.0, bar_style='info', description='getting data for seq 12', max=1.0, styl…"
      ]
     },
     "metadata": {},
     "output_type": "display_data"
    },
    {
     "name": "stdout",
     "output_type": "stream",
     "text": [
      "\n"
     ]
    },
    {
     "data": {
      "application/vnd.jupyter.widget-view+json": {
       "model_id": "3fe90ca01a2447f2916535d43307f07d",
       "version_major": 2,
       "version_minor": 0
      },
      "text/plain": [
       "HBox(children=(FloatProgress(value=1.0, bar_style='info', description='getting data for seq 13', max=1.0, styl…"
      ]
     },
     "metadata": {},
     "output_type": "display_data"
    },
    {
     "name": "stdout",
     "output_type": "stream",
     "text": [
      "\n"
     ]
    },
    {
     "data": {
      "application/vnd.jupyter.widget-view+json": {
       "model_id": "8d3c825746434c1e954ee86f53080028",
       "version_major": 2,
       "version_minor": 0
      },
      "text/plain": [
       "HBox(children=(FloatProgress(value=1.0, bar_style='info', description='getting data for seq 14', max=1.0, styl…"
      ]
     },
     "metadata": {},
     "output_type": "display_data"
    },
    {
     "name": "stdout",
     "output_type": "stream",
     "text": [
      "\n"
     ]
    },
    {
     "data": {
      "application/vnd.jupyter.widget-view+json": {
       "model_id": "9204e1b904664362a1b8075c69ea1864",
       "version_major": 2,
       "version_minor": 0
      },
      "text/plain": [
       "HBox(children=(FloatProgress(value=1.0, bar_style='info', description='getting data for seq 15', max=1.0, styl…"
      ]
     },
     "metadata": {},
     "output_type": "display_data"
    },
    {
     "name": "stdout",
     "output_type": "stream",
     "text": [
      "\n"
     ]
    },
    {
     "data": {
      "application/vnd.jupyter.widget-view+json": {
       "model_id": "068e3d2b38214e60b5b2a39c850dfc5a",
       "version_major": 2,
       "version_minor": 0
      },
      "text/plain": [
       "HBox(children=(FloatProgress(value=1.0, bar_style='info', description='getting data for seq 16', max=1.0, styl…"
      ]
     },
     "metadata": {},
     "output_type": "display_data"
    },
    {
     "name": "stdout",
     "output_type": "stream",
     "text": [
      "\n"
     ]
    },
    {
     "data": {
      "application/vnd.jupyter.widget-view+json": {
       "model_id": "5566d417cd724773bebb385da260a86b",
       "version_major": 2,
       "version_minor": 0
      },
      "text/plain": [
       "HBox(children=(FloatProgress(value=1.0, bar_style='info', description='getting data for seq 17', max=1.0, styl…"
      ]
     },
     "metadata": {},
     "output_type": "display_data"
    },
    {
     "name": "stdout",
     "output_type": "stream",
     "text": [
      "\n"
     ]
    },
    {
     "data": {
      "application/vnd.jupyter.widget-view+json": {
       "model_id": "487b02dd6c9b4931b44dafc295feca5a",
       "version_major": 2,
       "version_minor": 0
      },
      "text/plain": [
       "HBox(children=(FloatProgress(value=1.0, bar_style='info', description='getting data for seq 18', max=1.0, styl…"
      ]
     },
     "metadata": {},
     "output_type": "display_data"
    },
    {
     "name": "stdout",
     "output_type": "stream",
     "text": [
      "\n"
     ]
    },
    {
     "data": {
      "application/vnd.jupyter.widget-view+json": {
       "model_id": "6b3a04d3238f42e6a16747a1f46de14c",
       "version_major": 2,
       "version_minor": 0
      },
      "text/plain": [
       "HBox(children=(FloatProgress(value=1.0, bar_style='info', description='getting data for seq 19', max=1.0, styl…"
      ]
     },
     "metadata": {},
     "output_type": "display_data"
    },
    {
     "name": "stdout",
     "output_type": "stream",
     "text": [
      "\n"
     ]
    },
    {
     "data": {
      "application/vnd.jupyter.widget-view+json": {
       "model_id": "30e19c59a4fc43aaaee5361ccc2f30a4",
       "version_major": 2,
       "version_minor": 0
      },
      "text/plain": [
       "HBox(children=(FloatProgress(value=1.0, bar_style='info', description='getting data for seq 20', max=1.0, styl…"
      ]
     },
     "metadata": {},
     "output_type": "display_data"
    },
    {
     "name": "stdout",
     "output_type": "stream",
     "text": [
      "\n"
     ]
    },
    {
     "data": {
      "application/vnd.jupyter.widget-view+json": {
       "model_id": "5ed77b38ccb343cebc8a8de4319a4917",
       "version_major": 2,
       "version_minor": 0
      },
      "text/plain": [
       "HBox(children=(FloatProgress(value=1.0, bar_style='info', description='getting data for seq 21', max=1.0, styl…"
      ]
     },
     "metadata": {},
     "output_type": "display_data"
    },
    {
     "name": "stdout",
     "output_type": "stream",
     "text": [
      "\n"
     ]
    }
   ],
   "source": [
    "sequences_results = []\n",
    "for seq in sequences:\n",
    "    seq_labels_path = dataset_root_dir / seq / \"labels\"\n",
    "    \n",
    "    # get names of all label files for sequence\n",
    "    seq_labels_files = [i.name for i in sorted(seq_labels_path.glob(\"*.npy\"))]\n",
    "    \n",
    "    for label_file in tqdm(seq_labels_files, f\"getting data for seq {seq}\"):\n",
    "        label_file_path =  dataset_root_dir / seq / \"labels\" / label_file\n",
    "        \n",
    "        # read label data\n",
    "        label_data = get_label_data(label_file_path)\n",
    "        \n",
    "        # get unique labels in array and their count\n",
    "        classes_in_file, occurences = np.unique(label_data, return_counts=True)\n",
    "        classes_numbers = list(zip(classes_in_file, occurences))\n",
    "        \n",
    "        # create a dictionary for each scan\n",
    "        scan_result = {}\n",
    "        scan_result['id'] = f\"{seq}_{label_file_path.stem}\"\n",
    "        scan_result[\"seq\"] = seq\n",
    "        for c, o in classes_numbers:\n",
    "            class_name = labels_config[c]\n",
    "            scan_result[class_name] = o\n",
    "        \n",
    "        # add scan dictionary to lsist\n",
    "        sequences_results.append(scan_result)\n"
   ]
  },
  {
   "cell_type": "code",
   "execution_count": 17,
   "metadata": {},
   "outputs": [],
   "source": [
    "statistics_dataframe = pd.DataFrame(sequences_results)"
   ]
  },
  {
   "cell_type": "code",
   "execution_count": 18,
   "metadata": {},
   "outputs": [
    {
     "data": {
      "text/html": [
       "<div>\n",
       "<style scoped>\n",
       "    .dataframe tbody tr th:only-of-type {\n",
       "        vertical-align: middle;\n",
       "    }\n",
       "\n",
       "    .dataframe tbody tr th {\n",
       "        vertical-align: top;\n",
       "    }\n",
       "\n",
       "    .dataframe thead th {\n",
       "        text-align: right;\n",
       "    }\n",
       "</style>\n",
       "<table border=\"1\" class=\"dataframe\">\n",
       "  <thead>\n",
       "    <tr style=\"text-align: right;\">\n",
       "      <th></th>\n",
       "      <th>id</th>\n",
       "      <th>seq</th>\n",
       "      <th>unlabeled</th>\n",
       "      <th>car</th>\n",
       "      <th>road</th>\n",
       "      <th>parking</th>\n",
       "      <th>sidewalk</th>\n",
       "      <th>building</th>\n",
       "      <th>fence</th>\n",
       "      <th>vegetation</th>\n",
       "      <th>...</th>\n",
       "      <th>motorcycle</th>\n",
       "      <th>person</th>\n",
       "      <th>moving-person</th>\n",
       "      <th>moving-bicyclist</th>\n",
       "      <th>other-ground</th>\n",
       "      <th>truck</th>\n",
       "      <th>moving-other-vehicle</th>\n",
       "      <th>moving-bus</th>\n",
       "      <th>moving-truck</th>\n",
       "      <th>bicyclist</th>\n",
       "    </tr>\n",
       "  </thead>\n",
       "  <tbody>\n",
       "    <tr>\n",
       "      <th>0</th>\n",
       "      <td>00_000000</td>\n",
       "      <td>00</td>\n",
       "      <td>444.0</td>\n",
       "      <td>1483.0</td>\n",
       "      <td>5798</td>\n",
       "      <td>1752.0</td>\n",
       "      <td>1246.0</td>\n",
       "      <td>3597.0</td>\n",
       "      <td>248.0</td>\n",
       "      <td>3685.0</td>\n",
       "      <td>...</td>\n",
       "      <td>NaN</td>\n",
       "      <td>NaN</td>\n",
       "      <td>NaN</td>\n",
       "      <td>NaN</td>\n",
       "      <td>NaN</td>\n",
       "      <td>NaN</td>\n",
       "      <td>NaN</td>\n",
       "      <td>NaN</td>\n",
       "      <td>NaN</td>\n",
       "      <td>NaN</td>\n",
       "    </tr>\n",
       "    <tr>\n",
       "      <th>1</th>\n",
       "      <td>00_000001</td>\n",
       "      <td>00</td>\n",
       "      <td>498.0</td>\n",
       "      <td>1588.0</td>\n",
       "      <td>5697</td>\n",
       "      <td>1673.0</td>\n",
       "      <td>1173.0</td>\n",
       "      <td>3852.0</td>\n",
       "      <td>184.0</td>\n",
       "      <td>3546.0</td>\n",
       "      <td>...</td>\n",
       "      <td>NaN</td>\n",
       "      <td>NaN</td>\n",
       "      <td>NaN</td>\n",
       "      <td>NaN</td>\n",
       "      <td>NaN</td>\n",
       "      <td>NaN</td>\n",
       "      <td>NaN</td>\n",
       "      <td>NaN</td>\n",
       "      <td>NaN</td>\n",
       "      <td>NaN</td>\n",
       "    </tr>\n",
       "    <tr>\n",
       "      <th>2</th>\n",
       "      <td>00_000002</td>\n",
       "      <td>00</td>\n",
       "      <td>522.0</td>\n",
       "      <td>1798.0</td>\n",
       "      <td>5587</td>\n",
       "      <td>1436.0</td>\n",
       "      <td>980.0</td>\n",
       "      <td>4001.0</td>\n",
       "      <td>199.0</td>\n",
       "      <td>3506.0</td>\n",
       "      <td>...</td>\n",
       "      <td>NaN</td>\n",
       "      <td>NaN</td>\n",
       "      <td>NaN</td>\n",
       "      <td>NaN</td>\n",
       "      <td>NaN</td>\n",
       "      <td>NaN</td>\n",
       "      <td>NaN</td>\n",
       "      <td>NaN</td>\n",
       "      <td>NaN</td>\n",
       "      <td>NaN</td>\n",
       "    </tr>\n",
       "    <tr>\n",
       "      <th>3</th>\n",
       "      <td>00_000003</td>\n",
       "      <td>00</td>\n",
       "      <td>517.0</td>\n",
       "      <td>2023.0</td>\n",
       "      <td>5556</td>\n",
       "      <td>1198.0</td>\n",
       "      <td>832.0</td>\n",
       "      <td>4185.0</td>\n",
       "      <td>150.0</td>\n",
       "      <td>3230.0</td>\n",
       "      <td>...</td>\n",
       "      <td>NaN</td>\n",
       "      <td>NaN</td>\n",
       "      <td>NaN</td>\n",
       "      <td>NaN</td>\n",
       "      <td>NaN</td>\n",
       "      <td>NaN</td>\n",
       "      <td>NaN</td>\n",
       "      <td>NaN</td>\n",
       "      <td>NaN</td>\n",
       "      <td>NaN</td>\n",
       "    </tr>\n",
       "    <tr>\n",
       "      <th>4</th>\n",
       "      <td>00_000004</td>\n",
       "      <td>00</td>\n",
       "      <td>516.0</td>\n",
       "      <td>2067.0</td>\n",
       "      <td>5557</td>\n",
       "      <td>1206.0</td>\n",
       "      <td>680.0</td>\n",
       "      <td>4353.0</td>\n",
       "      <td>137.0</td>\n",
       "      <td>2910.0</td>\n",
       "      <td>...</td>\n",
       "      <td>NaN</td>\n",
       "      <td>NaN</td>\n",
       "      <td>NaN</td>\n",
       "      <td>NaN</td>\n",
       "      <td>NaN</td>\n",
       "      <td>NaN</td>\n",
       "      <td>NaN</td>\n",
       "      <td>NaN</td>\n",
       "      <td>NaN</td>\n",
       "      <td>NaN</td>\n",
       "    </tr>\n",
       "    <tr>\n",
       "      <th>...</th>\n",
       "      <td>...</td>\n",
       "      <td>...</td>\n",
       "      <td>...</td>\n",
       "      <td>...</td>\n",
       "      <td>...</td>\n",
       "      <td>...</td>\n",
       "      <td>...</td>\n",
       "      <td>...</td>\n",
       "      <td>...</td>\n",
       "      <td>...</td>\n",
       "      <td>...</td>\n",
       "      <td>...</td>\n",
       "      <td>...</td>\n",
       "      <td>...</td>\n",
       "      <td>...</td>\n",
       "      <td>...</td>\n",
       "      <td>...</td>\n",
       "      <td>...</td>\n",
       "      <td>...</td>\n",
       "      <td>...</td>\n",
       "      <td>...</td>\n",
       "    </tr>\n",
       "    <tr>\n",
       "      <th>23196</th>\n",
       "      <td>10_001196</td>\n",
       "      <td>10</td>\n",
       "      <td>76.0</td>\n",
       "      <td>1586.0</td>\n",
       "      <td>4890</td>\n",
       "      <td>NaN</td>\n",
       "      <td>1598.0</td>\n",
       "      <td>1404.0</td>\n",
       "      <td>3039.0</td>\n",
       "      <td>4853.0</td>\n",
       "      <td>...</td>\n",
       "      <td>NaN</td>\n",
       "      <td>NaN</td>\n",
       "      <td>88.0</td>\n",
       "      <td>NaN</td>\n",
       "      <td>NaN</td>\n",
       "      <td>NaN</td>\n",
       "      <td>NaN</td>\n",
       "      <td>NaN</td>\n",
       "      <td>1841.0</td>\n",
       "      <td>NaN</td>\n",
       "    </tr>\n",
       "    <tr>\n",
       "      <th>23197</th>\n",
       "      <td>10_001197</td>\n",
       "      <td>10</td>\n",
       "      <td>79.0</td>\n",
       "      <td>1616.0</td>\n",
       "      <td>4888</td>\n",
       "      <td>NaN</td>\n",
       "      <td>1626.0</td>\n",
       "      <td>1447.0</td>\n",
       "      <td>3008.0</td>\n",
       "      <td>4727.0</td>\n",
       "      <td>...</td>\n",
       "      <td>NaN</td>\n",
       "      <td>NaN</td>\n",
       "      <td>84.0</td>\n",
       "      <td>NaN</td>\n",
       "      <td>NaN</td>\n",
       "      <td>NaN</td>\n",
       "      <td>NaN</td>\n",
       "      <td>NaN</td>\n",
       "      <td>1879.0</td>\n",
       "      <td>NaN</td>\n",
       "    </tr>\n",
       "    <tr>\n",
       "      <th>23198</th>\n",
       "      <td>10_001198</td>\n",
       "      <td>10</td>\n",
       "      <td>78.0</td>\n",
       "      <td>1642.0</td>\n",
       "      <td>4903</td>\n",
       "      <td>NaN</td>\n",
       "      <td>1669.0</td>\n",
       "      <td>1484.0</td>\n",
       "      <td>2969.0</td>\n",
       "      <td>4606.0</td>\n",
       "      <td>...</td>\n",
       "      <td>NaN</td>\n",
       "      <td>NaN</td>\n",
       "      <td>81.0</td>\n",
       "      <td>NaN</td>\n",
       "      <td>NaN</td>\n",
       "      <td>NaN</td>\n",
       "      <td>NaN</td>\n",
       "      <td>NaN</td>\n",
       "      <td>1907.0</td>\n",
       "      <td>NaN</td>\n",
       "    </tr>\n",
       "    <tr>\n",
       "      <th>23199</th>\n",
       "      <td>10_001199</td>\n",
       "      <td>10</td>\n",
       "      <td>80.0</td>\n",
       "      <td>1669.0</td>\n",
       "      <td>4939</td>\n",
       "      <td>NaN</td>\n",
       "      <td>1724.0</td>\n",
       "      <td>1517.0</td>\n",
       "      <td>2961.0</td>\n",
       "      <td>4468.0</td>\n",
       "      <td>...</td>\n",
       "      <td>NaN</td>\n",
       "      <td>NaN</td>\n",
       "      <td>80.0</td>\n",
       "      <td>NaN</td>\n",
       "      <td>NaN</td>\n",
       "      <td>NaN</td>\n",
       "      <td>NaN</td>\n",
       "      <td>NaN</td>\n",
       "      <td>1939.0</td>\n",
       "      <td>NaN</td>\n",
       "    </tr>\n",
       "    <tr>\n",
       "      <th>23200</th>\n",
       "      <td>10_001200</td>\n",
       "      <td>10</td>\n",
       "      <td>81.0</td>\n",
       "      <td>1699.0</td>\n",
       "      <td>4961</td>\n",
       "      <td>NaN</td>\n",
       "      <td>1763.0</td>\n",
       "      <td>1551.0</td>\n",
       "      <td>2950.0</td>\n",
       "      <td>4351.0</td>\n",
       "      <td>...</td>\n",
       "      <td>NaN</td>\n",
       "      <td>NaN</td>\n",
       "      <td>80.0</td>\n",
       "      <td>NaN</td>\n",
       "      <td>NaN</td>\n",
       "      <td>NaN</td>\n",
       "      <td>NaN</td>\n",
       "      <td>NaN</td>\n",
       "      <td>1939.0</td>\n",
       "      <td>NaN</td>\n",
       "    </tr>\n",
       "  </tbody>\n",
       "</table>\n",
       "<p>23201 rows × 33 columns</p>\n",
       "</div>"
      ],
      "text/plain": [
       "              id seq  unlabeled     car  road  parking  sidewalk  building  \\\n",
       "0      00_000000  00      444.0  1483.0  5798   1752.0    1246.0    3597.0   \n",
       "1      00_000001  00      498.0  1588.0  5697   1673.0    1173.0    3852.0   \n",
       "2      00_000002  00      522.0  1798.0  5587   1436.0     980.0    4001.0   \n",
       "3      00_000003  00      517.0  2023.0  5556   1198.0     832.0    4185.0   \n",
       "4      00_000004  00      516.0  2067.0  5557   1206.0     680.0    4353.0   \n",
       "...          ...  ..        ...     ...   ...      ...       ...       ...   \n",
       "23196  10_001196  10       76.0  1586.0  4890      NaN    1598.0    1404.0   \n",
       "23197  10_001197  10       79.0  1616.0  4888      NaN    1626.0    1447.0   \n",
       "23198  10_001198  10       78.0  1642.0  4903      NaN    1669.0    1484.0   \n",
       "23199  10_001199  10       80.0  1669.0  4939      NaN    1724.0    1517.0   \n",
       "23200  10_001200  10       81.0  1699.0  4961      NaN    1763.0    1551.0   \n",
       "\n",
       "        fence  vegetation  ...  motorcycle  person  moving-person  \\\n",
       "0       248.0      3685.0  ...         NaN     NaN            NaN   \n",
       "1       184.0      3546.0  ...         NaN     NaN            NaN   \n",
       "2       199.0      3506.0  ...         NaN     NaN            NaN   \n",
       "3       150.0      3230.0  ...         NaN     NaN            NaN   \n",
       "4       137.0      2910.0  ...         NaN     NaN            NaN   \n",
       "...       ...         ...  ...         ...     ...            ...   \n",
       "23196  3039.0      4853.0  ...         NaN     NaN           88.0   \n",
       "23197  3008.0      4727.0  ...         NaN     NaN           84.0   \n",
       "23198  2969.0      4606.0  ...         NaN     NaN           81.0   \n",
       "23199  2961.0      4468.0  ...         NaN     NaN           80.0   \n",
       "23200  2950.0      4351.0  ...         NaN     NaN           80.0   \n",
       "\n",
       "       moving-bicyclist  other-ground  truck  moving-other-vehicle  \\\n",
       "0                   NaN           NaN    NaN                   NaN   \n",
       "1                   NaN           NaN    NaN                   NaN   \n",
       "2                   NaN           NaN    NaN                   NaN   \n",
       "3                   NaN           NaN    NaN                   NaN   \n",
       "4                   NaN           NaN    NaN                   NaN   \n",
       "...                 ...           ...    ...                   ...   \n",
       "23196               NaN           NaN    NaN                   NaN   \n",
       "23197               NaN           NaN    NaN                   NaN   \n",
       "23198               NaN           NaN    NaN                   NaN   \n",
       "23199               NaN           NaN    NaN                   NaN   \n",
       "23200               NaN           NaN    NaN                   NaN   \n",
       "\n",
       "       moving-bus  moving-truck  bicyclist  \n",
       "0             NaN           NaN        NaN  \n",
       "1             NaN           NaN        NaN  \n",
       "2             NaN           NaN        NaN  \n",
       "3             NaN           NaN        NaN  \n",
       "4             NaN           NaN        NaN  \n",
       "...           ...           ...        ...  \n",
       "23196         NaN        1841.0        NaN  \n",
       "23197         NaN        1879.0        NaN  \n",
       "23198         NaN        1907.0        NaN  \n",
       "23199         NaN        1939.0        NaN  \n",
       "23200         NaN        1939.0        NaN  \n",
       "\n",
       "[23201 rows x 33 columns]"
      ]
     },
     "execution_count": 18,
     "metadata": {},
     "output_type": "execute_result"
    }
   ],
   "source": [
    "statistics_dataframe"
   ]
  },
  {
   "cell_type": "code",
   "execution_count": 19,
   "metadata": {},
   "outputs": [],
   "source": [
    "statistics_dataframe.to_csv(\"filtered_semantic_labels_stats.csv\")"
   ]
  }
 ],
 "metadata": {
  "kernelspec": {
   "display_name": "Python 3",
   "language": "python",
   "name": "python3"
  },
  "language_info": {
   "codemirror_mode": {
    "name": "ipython",
    "version": 3
   },
   "file_extension": ".py",
   "mimetype": "text/x-python",
   "name": "python",
   "nbconvert_exporter": "python",
   "pygments_lexer": "ipython3",
   "version": "3.6.10"
  }
 },
 "nbformat": 4,
 "nbformat_minor": 4
}
